{
 "cells": [
  {
   "cell_type": "code",
   "execution_count": 56,
   "metadata": {},
   "outputs": [],
   "source": [
    "%matplotlib inline\n",
    "import matplotlib\n",
    "import seaborn as sns\n",
    "matplotlib.rcParams['savefig.dpi'] = 144"
   ]
  },
  {
   "cell_type": "code",
   "execution_count": 57,
   "metadata": {},
   "outputs": [],
   "source": [
    "from static_grader import grader"
   ]
  },
  {
   "cell_type": "markdown",
   "metadata": {},
   "source": [
    "# PW Miniproject\n",
    "## Introduction\n",
    "\n",
    "The objective of this miniproject is to exercise your ability to use basic Python data structures, define functions, and control program flow. We will be using these concepts to perform some fundamental data wrangling tasks such as joining data sets together, splitting data into groups, and aggregating data into summary statistics.\n",
    "**Please do not use `pandas` or `numpy` to answer these questions.**\n",
    "\n",
    "We will be working with medical data from the British NHS on prescription drugs. Since this is real data, it contains many ambiguities that we will need to confront in our analysis. This is commonplace in data science, and is one of the lessons you will learn in this miniproject."
   ]
  },
  {
   "cell_type": "markdown",
   "metadata": {},
   "source": [
    "## Downloading the data\n",
    "\n",
    "We first need to download the data we'll be using from Amazon S3:"
   ]
  },
  {
   "cell_type": "code",
   "execution_count": 58,
   "metadata": {},
   "outputs": [
    {
     "name": "stderr",
     "output_type": "stream",
     "text": [
      "mkdir: cannot create directory ‘pw-data’: File exists\n",
      "File ‘./pw-data/201701scripts_sample.json.gz’ already there; not retrieving.\n",
      "\n",
      "File ‘./pw-data/practices.json.gz’ already there; not retrieving.\n",
      "\n"
     ]
    }
   ],
   "source": [
    "%%bash\n",
    "mkdir pw-data\n",
    "wget http://dataincubator-wqu.s3.amazonaws.com/pwdata/201701scripts_sample.json.gz -nc -P ./pw-data\n",
    "wget http://dataincubator-wqu.s3.amazonaws.com/pwdata/practices.json.gz -nc -P ./pw-data"
   ]
  },
  {
   "cell_type": "markdown",
   "metadata": {},
   "source": [
    "## Loading the data\n",
    "\n",
    "The first step of the project is to read in the data. We will discuss reading and writing various kinds of files later in the course, but the code below should get you started."
   ]
  },
  {
   "cell_type": "code",
   "execution_count": 59,
   "metadata": {},
   "outputs": [],
   "source": [
    "import gzip\n",
    "import simplejson as json"
   ]
  },
  {
   "cell_type": "code",
   "execution_count": 60,
   "metadata": {},
   "outputs": [],
   "source": [
    "with gzip.open('./pw-data/201701scripts_sample.json.gz', 'rb') as f:\n",
    "    scripts = json.load(f)\n",
    "\n",
    "with gzip.open('./pw-data/practices.json.gz', 'rb') as f:\n",
    "    practices = json.load(f)"
   ]
  },
  {
   "cell_type": "markdown",
   "metadata": {},
   "source": [
    "This data set comes from Britain's National Health Service. The `scripts` variable is a list of prescriptions issued by NHS doctors. Each prescription is represented by a dictionary with various data fields: `'practice'`, `'bnf_code'`, `'bnf_name'`, `'quantity'`, `'items'`, `'nic'`, and `'act_cost'`. "
   ]
  },
  {
   "cell_type": "code",
   "execution_count": 61,
   "metadata": {},
   "outputs": [
    {
     "data": {
      "text/plain": [
       "[{'bnf_code': '0101010G0AAABAB',\n",
       "  'items': 2,\n",
       "  'practice': 'N81013',\n",
       "  'bnf_name': 'Co-Magaldrox_Susp 195mg/220mg/5ml S/F',\n",
       "  'nic': 5.98,\n",
       "  'act_cost': 5.56,\n",
       "  'quantity': 1000},\n",
       " {'bnf_code': '0101021B0AAAHAH',\n",
       "  'items': 1,\n",
       "  'practice': 'N81013',\n",
       "  'bnf_name': 'Alginate_Raft-Forming Oral Susp S/F',\n",
       "  'nic': 1.95,\n",
       "  'act_cost': 1.82,\n",
       "  'quantity': 500}]"
      ]
     },
     "execution_count": 61,
     "metadata": {},
     "output_type": "execute_result"
    }
   ],
   "source": [
    "scripts[:2]"
   ]
  },
  {
   "cell_type": "markdown",
   "metadata": {},
   "source": [
    "A [glossary of terms](http://webarchive.nationalarchives.gov.uk/20180328130852tf_/http://content.digital.nhs.uk/media/10686/Download-glossary-of-terms-for-GP-prescribing---presentation-level/pdf/PLP_Presentation_Level_Glossary_April_2015.pdf/) and [FAQ](http://webarchive.nationalarchives.gov.uk/20180328130852tf_/http://content.digital.nhs.uk/media/10048/FAQs-Practice-Level-Prescribingpdf/pdf/PLP_FAQs_April_2015.pdf/) is available from the NHS regarding the data. Below we supply a data dictionary briefly describing what these fields mean.\n",
    "\n",
    "| Data field |Description|\n",
    "|:----------:|-----------|\n",
    "|`'practice'`|Code designating the medical practice issuing the prescription|\n",
    "|`'bnf_code'`|British National Formulary drug code|\n",
    "|`'bnf_name'`|British National Formulary drug name|\n",
    "|`'quantity'`|Number of capsules/quantity of liquid/grams of powder prescribed|\n",
    "| `'items'`  |Number of refills (e.g. if `'quantity'` is 30 capsules, 3 `'items'` means 3 bottles of 30 capsules)|\n",
    "|  `'nic'`   |Net ingredient cost|\n",
    "|`'act_cost'`|Total cost including containers, fees, and discounts|"
   ]
  },
  {
   "cell_type": "markdown",
   "metadata": {},
   "source": [
    "The `practices` variable is a list of member medical practices of the NHS. Each practice is represented by a dictionary containing identifying information for the medical practice. Most of the data fields are self-explanatory. Notice the values in the `'code'` field of `practices` match the values in the `'practice'` field of `scripts`."
   ]
  },
  {
   "cell_type": "code",
   "execution_count": 62,
   "metadata": {},
   "outputs": [
    {
     "data": {
      "text/plain": [
       "[{'code': 'A81001',\n",
       "  'name': 'THE DENSHAM SURGERY',\n",
       "  'addr_1': 'THE HEALTH CENTRE',\n",
       "  'addr_2': 'LAWSON STREET',\n",
       "  'borough': 'STOCKTON ON TEES',\n",
       "  'village': 'CLEVELAND',\n",
       "  'post_code': 'TS18 1HU'},\n",
       " {'code': 'A81002',\n",
       "  'name': 'QUEENS PARK MEDICAL CENTRE',\n",
       "  'addr_1': 'QUEENS PARK MEDICAL CTR',\n",
       "  'addr_2': 'FARRER STREET',\n",
       "  'borough': 'STOCKTON ON TEES',\n",
       "  'village': 'CLEVELAND',\n",
       "  'post_code': 'TS18 2AW'}]"
      ]
     },
     "execution_count": 62,
     "metadata": {},
     "output_type": "execute_result"
    }
   ],
   "source": [
    "practices[:2]"
   ]
  },
  {
   "cell_type": "markdown",
   "metadata": {},
   "source": [
    "In the following questions we will ask you to explore this data set. You may need to combine pieces of the data set together in order to answer some questions. Not every element of the data set will be used in answering the questions."
   ]
  },
  {
   "cell_type": "markdown",
   "metadata": {},
   "source": [
    "## Question 1: summary_statistics\n",
    "\n",
    "Our beneficiary data (`scripts`) contains quantitative data on the number of items dispensed (`'items'`), the total quantity of item dispensed (`'quantity'`), the net cost of the ingredients (`'nic'`), and the actual cost to the patient (`'act_cost'`). Whenever working with a new data set, it can be useful to calculate summary statistics to develop a feeling for the volume and character of the data. This makes it easier to spot trends and significant features during further stages of analysis.\n",
    "\n",
    "Calculate the sum, mean, standard deviation, and quartile statistics for each of these quantities. Format your results for each quantity as a list: `[sum, mean, standard deviation, 1st quartile, median, 3rd quartile]`. We'll create a `tuple` with these lists for each quantity as a final result."
   ]
  },
  {
   "cell_type": "code",
   "execution_count": 63,
   "metadata": {},
   "outputs": [],
   "source": [
    "from statistics import median\n",
    "def describe(key):\n",
    "\n",
    "    #total = 0\n",
    "    #avg = 0\n",
    "    #s = 0\n",
    "    #q25 = 0\n",
    "    #med = 0\n",
    "    #q75 = 0\n",
    "    total = 0.0\n",
    "    for i in scripts:\n",
    "        total = total + float(i[key])\n",
    "    \n",
    "    avg = 0.0\n",
    "    for i in scripts:\n",
    "        avg = total/(len(scripts))\n",
    "    \n",
    "    s = 0.0\n",
    "    n = 0.0\n",
    "    for i in scripts:\n",
    "        n += (i[key] - avg)**2\n",
    "        s = (n/(len(scripts)))**0.5\n",
    "\n",
    "    lst = []\n",
    "    for x in scripts:\n",
    "        lst.append(x[key])\n",
    "    sorted_list = sorted(lst)\n",
    "    q25 = median(sorted_list[:len(lst)//2])\n",
    "    med = median(lst)\n",
    "    q75 = median(sorted_list[len(lst)//2:])\n",
    "    \n",
    "\n",
    "    return (total, avg, s, q25, med, q75)"
   ]
  },
  {
   "cell_type": "code",
   "execution_count": 64,
   "metadata": {},
   "outputs": [],
   "source": [
    "def summary():\n",
    "    result = [('items', describe('items')),\n",
    "               ('quantity', describe('quantity')),\n",
    "               ('nic', describe('nic')),\n",
    "               ('act_cost', describe('act_cost'))]\n",
    "    return result"
   ]
  },
  {
   "cell_type": "code",
   "execution_count": 65,
   "metadata": {},
   "outputs": [
    {
     "data": {
      "text/plain": [
       "[('items', (4410054.0, 11.522744731217633, 33.11216633980368, 1, 3.0, 8)),\n",
       " ('quantity',\n",
       "  (316356836.0, 826.5883059943667, 3872.1810146096263, 30, 120.0, 466)),\n",
       " ('nic',\n",
       "  (29048309.790000338,\n",
       "   75.89844899484315,\n",
       "   197.5728266277507,\n",
       "   7.7,\n",
       "   22.62,\n",
       "   65.94)),\n",
       " ('act_cost',\n",
       "  (27053937.599999707,\n",
       "   70.68748295124895,\n",
       "   183.26731895303854,\n",
       "   7.25,\n",
       "   21.24,\n",
       "   61.53))]"
      ]
     },
     "execution_count": 65,
     "metadata": {},
     "output_type": "execute_result"
    }
   ],
   "source": [
    "keys = scripts\n",
    "summary()"
   ]
  },
  {
   "cell_type": "code",
   "execution_count": 66,
   "metadata": {},
   "outputs": [
    {
     "name": "stdout",
     "output_type": "stream",
     "text": [
      "==================\n",
      "Your score:  1.0\n",
      "==================\n"
     ]
    }
   ],
   "source": [
    "grader.score.pw__summary_statistics(summary)"
   ]
  },
  {
   "cell_type": "markdown",
   "metadata": {},
   "source": [
    "## Question 2: most_common_item\n",
    "\n",
    "Often we are not interested only in how the data is distributed in our entire data set, but within particular groups -- for example, how many items of each drug (i.e. `'bnf_name'`) were prescribed? Calculate the total items prescribed for each `'bnf_name'`. What is the most commonly prescribed `'bnf_name'` in our data?\n",
    "\n",
    "To calculate this, we first need to split our data set into groups corresponding with the different values of `'bnf_name'`. Then we can sum the number of items dispensed within in each group. Finally we can find the largest sum.\n",
    "\n",
    "We'll use `'bnf_name'` to construct our groups. You should have *5619* unique values for `'bnf_name'`."
   ]
  },
  {
   "cell_type": "code",
   "execution_count": 67,
   "metadata": {},
   "outputs": [],
   "source": [
    "bnf_names = set([x['bnf_name'] for x in scripts])\n",
    "assert(len(bnf_names) == 5619)"
   ]
  },
  {
   "cell_type": "markdown",
   "metadata": {},
   "source": [
    "We want to construct \"groups\" identified by `'bnf_name'`, where each group is a collection of prescriptions (i.e. dictionaries from `scripts`). We'll construct a dictionary called `groups`, using `bnf_names` as the keys. We'll represent a group with a `list`, since we can easily append new members to the group. To split our `scripts` into groups by `'bnf_name'`, we should iterate over `scripts`, appending prescription dictionaries to each group as we encounter them."
   ]
  },
  {
   "cell_type": "code",
   "execution_count": null,
   "metadata": {},
   "outputs": [],
   "source": []
  },
  {
   "cell_type": "code",
   "execution_count": 68,
   "metadata": {},
   "outputs": [],
   "source": [
    "groups = {name: [] for name in bnf_names}\n",
    "for script in scripts:\n",
    "    # INSERT ...\n",
    "    groups[script['bnf_name']].append(script['items'])\n",
    "    "
   ]
  },
  {
   "cell_type": "markdown",
   "metadata": {},
   "source": [
    "Now that we've constructed our groups we should sum up `'items'` in each group and find the `'bnf_name'` with the largest sum. The result, `max_item`, should have the form `[(bnf_name, item total)]`, e.g. `[('Foobar', 2000)]`."
   ]
  },
  {
   "cell_type": "code",
   "execution_count": 69,
   "metadata": {},
   "outputs": [],
   "source": [
    "#max_item = [(\"\", 0)]\n",
    "\n",
    "def most_common_item():\n",
    "    max_dict ={}\n",
    "    for k,v in groups.items():\n",
    "        max_dict[k] = sum(v)\n",
    "    max_item = (max(max_dict.keys(), key=(lambda k: max_dict[k])) , max_dict[max(max_dict.keys(), key=(lambda k: max_dict[k]))])\n",
    "    return [max_item]"
   ]
  },
  {
   "cell_type": "code",
   "execution_count": 70,
   "metadata": {},
   "outputs": [],
   "source": [
    "max_item = most_common_item()"
   ]
  },
  {
   "cell_type": "markdown",
   "metadata": {},
   "source": [
    "**TIP:** If you are getting an error from the grader below, please make sure your answer conforms to the correct format of `[(bnf_name, item total)]`."
   ]
  },
  {
   "cell_type": "code",
   "execution_count": 71,
   "metadata": {},
   "outputs": [
    {
     "name": "stdout",
     "output_type": "stream",
     "text": [
      "==================\n",
      "Error!\n",
      "You have been rate limited for exceeding the limit of 1 per 1 second.\n",
      "Please slow down your submission rate.\n",
      "==================\n"
     ]
    }
   ],
   "source": [
    "grader.score.pw__most_common_item(most_common_item())"
   ]
  },
  {
   "cell_type": "markdown",
   "metadata": {},
   "source": [
    "**Challenge:** Write a function that constructs groups as we did above. The function should accept a list of dictionaries (e.g. `scripts` or `practices`) and a tuple of fields to `groupby` (e.g. `('bnf_name')` or `('bnf_name', 'post_code')`) and returns a dictionary of groups. The following questions will require you to aggregate data in groups, so this could be a useful function for the rest of the miniproject."
   ]
  },
  {
   "cell_type": "code",
   "execution_count": 72,
   "metadata": {},
   "outputs": [],
   "source": [
    "def group_by_field(data, fields):\n",
    "    names = {tuple(dict_[field] for field in fields)\n",
    "            for dict_ in data}\n",
    "    groups = {name: [] for name in names}\n",
    "    for dict_ in data:\n",
    "        name = tuple(dict_[field] for field in fields)\n",
    "        groups[name].append(dict_)\n",
    "    return groups"
   ]
  },
  {
   "cell_type": "code",
   "execution_count": 73,
   "metadata": {},
   "outputs": [],
   "source": [
    "groups = group_by_field(scripts, ('bnf_name',))\n",
    "test_max_item = [max(\n",
    "    (sum(member['items'] for member in group), name[0])\n",
    "    for name , group in list(groups.items())\n",
    ")[::-1]]\n",
    "\n",
    "assert test_max_item == max_item"
   ]
  },
  {
   "cell_type": "markdown",
   "metadata": {},
   "source": [
    "## Question 3: postal_totals\n",
    "\n",
    "Our data set is broken up among different files. This is typical for tabular data to reduce redundancy. Each table typically contains data about a particular type of event, processes, or physical object. Data on prescriptions and medical practices are in separate files in our case. If we want to find the total items prescribed in each postal code, we will have to _join_ our prescription data (`scripts`) to our clinic data (`practices`).\n",
    "\n",
    "Find the total items prescribed in each postal code, representing the results as a list of tuples `(post code, total items prescribed)`. Sort your results ascending alphabetically by post code and take only results from the first 100 post codes. Only include post codes if there is at least one prescription from a practice in that post code.\n",
    "\n",
    "**NOTE:** Some practices have multiple postal codes associated with them. Use the alphabetically first postal code."
   ]
  },
  {
   "cell_type": "markdown",
   "metadata": {},
   "source": [
    "We can join `scripts` and `practices` based on the fact that `'practice'` in `scripts` matches `'code'` in `practices'`. However, we must first deal with the repeated values of `'code'` in `practices`. We want the alphabetically first postal codes."
   ]
  },
  {
   "cell_type": "code",
   "execution_count": null,
   "metadata": {},
   "outputs": [],
   "source": []
  },
  {
   "cell_type": "code",
   "execution_count": null,
   "metadata": {},
   "outputs": [],
   "source": []
  },
  {
   "cell_type": "code",
   "execution_count": 74,
   "metadata": {},
   "outputs": [],
   "source": [
    "practice_postal = {}\n",
    "for practice in practices:\n",
    "    if practice['code'] in practice_postal:\n",
    "        if practice['post_code'] < practice_postal[practice['code']]:\n",
    "            practice_postal[practice['code']] = practice['post_code']\n",
    "        else:\n",
    "            pass\n",
    "    else:\n",
    "        practice_postal[practice['code']] = practice['post_code']"
   ]
  },
  {
   "cell_type": "code",
   "execution_count": null,
   "metadata": {},
   "outputs": [],
   "source": []
  },
  {
   "cell_type": "markdown",
   "metadata": {},
   "source": [
    "**Challenge:** This is an aggregation of the practice data grouped by practice codes. Write an alternative implementation of the above cell using the `group_by_field` function you defined previously."
   ]
  },
  {
   "cell_type": "code",
   "execution_count": 75,
   "metadata": {},
   "outputs": [],
   "source": [
    "assert practice_postal['K82019'] == 'HP21 8TR'"
   ]
  },
  {
   "cell_type": "markdown",
   "metadata": {},
   "source": [
    "**Challenge:** This is an aggregation of the practice data grouped by practice codes. Write an alternative implementation of the above cell using the `group_by_field` function you defined previously."
   ]
  },
  {
   "cell_type": "code",
   "execution_count": 76,
   "metadata": {},
   "outputs": [],
   "source": [
    "assert practice_postal['K82019'] == 'HP21 8TR'"
   ]
  },
  {
   "cell_type": "markdown",
   "metadata": {},
   "source": [
    "Now we can join `practice_postal` to `scripts`."
   ]
  },
  {
   "cell_type": "code",
   "execution_count": 77,
   "metadata": {},
   "outputs": [],
   "source": [
    "joined = scripts[:]\n",
    "for script in joined:\n",
    "    script['post_code'] = practice_postal[script['practice']]"
   ]
  },
  {
   "cell_type": "markdown",
   "metadata": {},
   "source": [
    "Finally we'll group the prescription dictionaries in `joined` by `'post_code'` and sum up the items prescribed in each group, as we did in the previous question."
   ]
  },
  {
   "cell_type": "code",
   "execution_count": 78,
   "metadata": {},
   "outputs": [],
   "source": [
    "items_by_post = []\n",
    "for script in joined:\n",
    "    items_by_post.append((script['post_code']))"
   ]
  },
  {
   "cell_type": "code",
   "execution_count": 79,
   "metadata": {},
   "outputs": [],
   "source": [
    "def postal_totals():\n",
    "    groups={post_code: [] for post_code in items_by_post}\n",
    "\n",
    "    for script in joined:\n",
    "        groups[script['post_code']].append(script['items'])\n",
    "\n",
    "    for group in groups.items():\n",
    "        groups[group[0]]=sum(group[1])\n",
    "\n",
    "    sortes_postals = sorted(groups.items(), key=lambda tup: tup[0])\n",
    "    return sortes_postals[:100] "
   ]
  },
  {
   "cell_type": "code",
   "execution_count": null,
   "metadata": {},
   "outputs": [],
   "source": []
  },
  {
   "cell_type": "code",
   "execution_count": 110,
   "metadata": {},
   "outputs": [
    {
     "data": {
      "text/plain": [
       "[('B11 4BW', 20673)]"
      ]
     },
     "execution_count": 110,
     "metadata": {},
     "output_type": "execute_result"
    }
   ],
   "source": [
    "items_by_post[:1]"
   ]
  },
  {
   "cell_type": "code",
   "execution_count": 81,
   "metadata": {},
   "outputs": [],
   "source": [
    "#postal_totals = items_by_post[:100]"
   ]
  },
  {
   "cell_type": "code",
   "execution_count": 82,
   "metadata": {},
   "outputs": [
    {
     "name": "stdout",
     "output_type": "stream",
     "text": [
      "==================\n",
      "Your score:  1.0\n",
      "==================\n"
     ]
    }
   ],
   "source": [
    "#postal_totals = [('B11 4BW', 20673)] * 100\n",
    "\n",
    "grader.score.pw__postal_totals(postal_totals())"
   ]
  },
  {
   "cell_type": "markdown",
   "metadata": {},
   "source": [
    "## Question 4: items_by_region\n",
    "\n",
    "Now we'll combine the techniques we've developed to answer a more complex question. Find the most commonly dispensed item in each postal code, representing the results as a list of tuples (`post_code`, `bnf_name`, amount dispensed as proportion of total). Sort your results ascending alphabetically by post code and take only results from the first 100 post codes.\n",
    "\n",
    "**NOTE:** We'll continue to use the `joined` variable we created before, where we've chosen the alphabetically first postal code for each practice. Additionally, some postal codes will have multiple `'bnf_name'` with the same number of items prescribed for the maximum. In this case, we'll take the alphabetically first `'bnf_name'`."
   ]
  },
  {
   "cell_type": "markdown",
   "metadata": {},
   "source": [
    "Now we need to calculate the total items of each `'bnf_name'` prescribed in each `'post_code'`. Use the techniques we developed in the previous questions to calculate these totals. You should have 141196 `('post_code', 'bnf_name')` groups."
   ]
  },
  {
   "cell_type": "code",
   "execution_count": null,
   "metadata": {},
   "outputs": [],
   "source": []
  },
  {
   "cell_type": "code",
   "execution_count": null,
   "metadata": {},
   "outputs": [],
   "source": []
  },
  {
   "cell_type": "code",
   "execution_count": null,
   "metadata": {},
   "outputs": [],
   "source": [
    "joined [:1]"
   ]
  },
  {
   "cell_type": "code",
   "execution_count": null,
   "metadata": {},
   "outputs": [],
   "source": [
    "post_code_list=[]\n",
    "for script in joined:\n",
    "    post_code_list.append(script['post_code'])\n",
    "    \n",
    "post_code_list = set(post_code_list)\n",
    "dict_new = {post_code:[] for post_code in post_code_list}\n",
    "\n",
    "for script in joined:\n",
    "    if len(dict_new[script['post_code']])== 2 and dict_new[script['post_code']][0] == script['bnf_name']:\n",
    "        dict_new[script['post_code']][1] += script['items']\n",
    "    else:\n",
    "        dict_new[script['post_code']].append((script['bnf_name'],script['items']))\n",
    "        \n",
    "list_new = []\n",
    "for key in dict_new.keys():\n",
    "    for i in range(len(dict_new[key])):\n",
    "        list_new.append({'post_code': key, 'bnf_name': dict_new[key][i][0], 'total':dict_new[key][i][1]}) \n",
    "\n",
    "total_items_by_bnf_post = {(dict_info['post_code'], dict_info['bnf_name']): dict_info['total'] for dict_info in list_new}            "
   ]
  },
  {
   "cell_type": "code",
   "execution_count": null,
   "metadata": {},
   "outputs": [],
   "source": []
  },
  {
   "cell_type": "code",
   "execution_count": 84,
   "metadata": {},
   "outputs": [],
   "source": [
    "total_items_by_bnf_post = {}\n",
    "for key, group in list(group_by_field(joined, ('post_code', 'bnf_name')).items()):\n",
    "    items_total = sum(d['items'] for d in group)\n",
    "    total_items_by_bnf_post[key] = items_total"
   ]
  },
  {
   "cell_type": "code",
   "execution_count": 85,
   "metadata": {},
   "outputs": [
    {
     "data": {
      "text/plain": [
       "{('B11 4BW', 'Sod Valpr_Tab 200mg M/R'): 2,\n",
       " ('DN22 7XF', 'Xylomet HCl_Nsl Spy 0.1% 10ml'): 10,\n",
       " ('SS13 3HQ', 'Haloperidol_Cap 500mcg'): 2,\n",
       " ('BB11 2DL', 'Ethinylest/Desogestrel_Tab 30mcg/150mcg'): 2,\n",
       " ('HU7 4DW', 'Nitrolingual_P/Spy 400mcg (180 D)'): 7,\n",
       " ('BD3 8QH', 'Tramadol HCl_Cap 100mg M/R'): 10,\n",
       " ('WF13 1HN', 'Care Olive Oil Ear Dps Ear Wax Softening'): 18,\n",
       " ('B70 7AW', 'Eumovate_Oint 0.05%'): 3,\n",
       " ('DN22 7XF', 'NovoFine Needles Pen Inj Screw On 6mm'): 19,\n",
       " ('TS1 2NX', 'Emla_Crm 5%'): 4,\n",
       " ('LE18 2EW', 'Estriol_Crm 0.1% + Applic'): 15,\n",
       " ('GL50 4DP', 'Tegaderm Film 15cm x 20cm VP Adh Film Dr'): 2,\n",
       " ('NE37 2PU', 'Hydrocort_Oint 1%'): 33,\n",
       " ('WS3 3JP', 'Irbesartan_Tab 300mg'): 40,\n",
       " ('BB2 1AX', 'Yasmin_Tab'): 6,\n",
       " ('WV13 2DR', 'Lansoprazole_Orodisper Tab 15mg'): 14,\n",
       " ('CV1 4FS', 'QV Bath Oil'): 3,\n",
       " ('BB8 0JZ', 'Co-Careldopa_Tab 12.5mg/50mg'): 10,\n",
       " ('LA1 1PN', 'Azathioprine_Tab 25mg'): 18,\n",
       " ('TS23 2DG', 'Doxycycline Hyclate_Tab Disper 100mg S/F'): 2,\n",
       " ('HA0 4UZ', 'T & R Sod Bicarb Ear Dps 5% Ear Wax Soft'): 18,\n",
       " ('SR5 2LT', 'Sod Valpr_Tab 200mg M/R'): 3,\n",
       " ('WV13 2DR', 'Prednisolone_Tab 1mg'): 15,\n",
       " ('M26 2SP', 'Irbesartan_Tab 300mg'): 22,\n",
       " ('SK11 6JL', 'Zerobase Crm (Appl)'): 221,\n",
       " ('CW7 1AT', 'Zapain_Cap 30mg/500mg'): 25,\n",
       " ('BL9 0NJ', 'Sinemet_Tab 12.5mg/50mg'): 4,\n",
       " ('SK6 1ND', 'Clinitas Carbomer Eye Gel'): 24,\n",
       " ('BB3 1PY', 'Octasa_MR Tab E/C 800mg'): 14,\n",
       " ('TN34 1BA', 'Contour Next (Reagent)_Strips'): 35,\n",
       " ('WA7 1AB', 'Adizem-XL_Cap 300mg'): 12,\n",
       " ('HG1 5AR', 'Venlafaxine_Cap 150mg M/R'): 3,\n",
       " ('PL7 1AD', 'Pregabalin_Cap 150mg'): 27,\n",
       " ('SE15 5LJ', 'Macrogol_Co Oral Pdr Sach S/F'): 31,\n",
       " ('BH23 3AF', 'Oilatum_Emollient'): 8,\n",
       " ('BB2 1AX', 'Co-Trimoxazole_Tab 80mg/400mg'): 2,\n",
       " ('ME8 8AA', 'Ovestin_Crm 1mg + Applic'): 12,\n",
       " ('CW1 3AW', 'Lisinopril_Tab 20mg'): 46,\n",
       " ('SR4 7XF', 'Zemtard 300 XL_Cap 300mg'): 10,\n",
       " ('NW10 8RY', 'Glimepiride_Tab 1mg'): 11,\n",
       " ('SS9 5UU', 'Otomize_Ear Spy 5ml'): 38,\n",
       " ('BH23 3AF', 'Budesonide/Formoterol Inh B/A 400/12(60D'): 10,\n",
       " ('CW7 1AT', 'Bisoprolol Fumar_Tab 5mg'): 215,\n",
       " ('NN16 8DN', 'Cefalexin_Cap 500mg'): 11,\n",
       " ('L36 7XY', 'Seretide 500_Accuhaler 500mcg/50mcg(60D)'): 38,\n",
       " ('TW3 3LN', 'Alimemazine Tart_Tab 10mg'): 2,\n",
       " ('GL1 3PX', 'Ganfort_Eye Dps 300mcg/5mg'): 11,\n",
       " ('SR5 2LT', 'Azithromycin_Tab 250mg'): 98,\n",
       " ('SK6 1ND', 'Repaglinide_Tab 500mcg'): 3,\n",
       " ('HU7 4DW', 'Ranitidine HCl_Tab 150mg'): 164,\n",
       " ('TW8 8DS', 'Nicorandil_Tab 20mg'): 6,\n",
       " ('TS1 2NX', 'H & R_Proshield Plus Skin Prote 115g'): 12,\n",
       " ('TS17 0EE', 'Co-Beneldopa_Cap 12.5mg/50mg'): 8,\n",
       " ('TS3 6AL', 'Epaderm Crm'): 33,\n",
       " ('BB3 1PY', 'Ibuprofen_Oral Susp 100mg/5ml S/F'): 13,\n",
       " ('CB9 8HF', 'Nitrofurantoin_Cap 50mg'): 12,\n",
       " ('ST1 4PB', 'Naproxen_Tab 500mg'): 48,\n",
       " ('M11 4EJ', 'Salbutamol_Inha 100mcg (200 D) CFF'): 153,\n",
       " ('ME8 8AA', 'E45_Itch Relief Crm'): 5,\n",
       " ('B23 6DJ', 'Flexitol Urea Heel Balm'): 16,\n",
       " ('DA1 2HA', 'Coloplast_Coloplast Night Bag + 120cm Tu'): 2,\n",
       " ('B70 7AW', 'Sod Feredetate_Oral Soln 190mg/5ml S/F'): 13,\n",
       " ('WN7 1HR', 'Rosuvastatin Calc_Tab 20mg'): 18,\n",
       " ('NW10 8RY', 'Mycophenolate Mofetil_Tab 500mg'): 2,\n",
       " ('WA9 1LN', 'Chlorhex Glucon_Mthwsh 0.2%'): 3,\n",
       " ('TW3 3LN', 'Aspirin_Tab E/C 75mg'): 207,\n",
       " ('WV13 2DR', 'Folic Acid_Oral Soln 2.5mg/5ml S/F'): 4,\n",
       " ('TS24 7PW', 'Beconase_Aq Nsl Spy 50mcg (200 D) 22g'): 21,\n",
       " ('S65 1DA', 'Adcal-D3_Tab Chble (Tutti-Frutti)'): 405,\n",
       " ('FY2 0JG', 'Mirtazapine_Orodisper Tab 15mg'): 11,\n",
       " ('PL7 1AD', 'Creon 25000_Cap E/C'): 14,\n",
       " ('KT14 6DH', 'Atorvastatin_Tab 80mg'): 101,\n",
       " ('B23 6DJ', 'Metronidazole_Tab 400mg'): 20,\n",
       " ('L5 0QW', 'Ivabradine_Tab 7.5mg'): 10,\n",
       " ('CW7 1AT', 'Co-Codamol_Tab 8mg/500mg'): 82,\n",
       " ('TS17 0EE', 'Gliclazide_Tab 60mg M/R'): 4,\n",
       " ('TS23 2DG', 'Mylife Clickfine AutoProtect Pen Inj Scr'): 3,\n",
       " ('WN7 1HR', 'Balneum Plus_Crm'): 4,\n",
       " ('L36 7XY', 'Rasagiline Mesil_Tab 1mg'): 2,\n",
       " ('TW13 4GU', 'Naproxen/Esomeprazole_Tab 500mg/20mg M/R'): 2,\n",
       " ('DA1 2HA', 'Salazopyrin-En_Tab 500mg'): 3,\n",
       " ('CT11 8AD', 'Hylo-Forte Sod Hyaluronate Eye Dps 0.2%'): 12,\n",
       " ('BB2 1AX', 'Terbinafine HCl_Crm 1%'): 12,\n",
       " ('CW7 1AT', 'Bimatoprost/Timolol_EyeDps300mcg/5mg 0.4'): 2,\n",
       " ('HG1 5AR', 'Doublebase_Gel'): 53,\n",
       " ('NW10 8RY', 'Felodipine_Tab 10mg M/R'): 36,\n",
       " ('TR1 2JA', 'Bard_Uriplan One MT Drain Bag 2L (10 Dev'): 6,\n",
       " ('M26 2SP', 'Loestrin 20_Tab'): 6,\n",
       " ('NG7 3GW', 'Erythromycin_Ethylsuc Susp 250mg/5ml'): 3,\n",
       " ('BL9 0SN', 'Oxybutynin HCl_Tab 5mg'): 41,\n",
       " ('FY7 8GU', 'Bisacodyl_Tab E/C 5mg'): 7,\n",
       " ('SE1 6JP', 'Ramipril_Tab 2.5mg'): 29,\n",
       " ('FY4 1TJ', 'Neoral_Cap 100mg'): 4,\n",
       " ('FY2 0JG', 'Amias_Tab 4mg'): 3,\n",
       " ('WA10 2DJ', 'Sod Feredetate_Oral Soln 190mg/5ml S/F'): 3,\n",
       " ('NN16 8DN', 'Promethazine HCl_Tab 10mg'): 5,\n",
       " ('NN16 8DN', 'Longtec_Tab 10mg M/R'): 6,\n",
       " ('YO16 4LZ', 'Bimatoprost_Eye Dps 100mcg/ml'): 153,\n",
       " ('GL50 4DP', 'Escitalopram_Tab 10mg'): 44,\n",
       " ('WN7 2PE', 'Lumigan_Eye Dps 100mcg/ml'): 3,\n",
       " ('M26 2SP', 'Sharpsafe 1L'): 33,\n",
       " ('SR4 7XF', 'Calcipotriol/Betameth_Gel 0.005%/0.05%'): 4,\n",
       " ('LE5 3GH', 'Estradot_Patch 50mcg/24hrs'): 2,\n",
       " ('LE10 1DS', 'Celecoxib_Cap 100mg'): 4,\n",
       " ('SE1 6JP', 'Mepore 10cm x 11cm Pfa + Adh Border Dres'): 5,\n",
       " ('OL11 1DN', 'Clobet But_Oint 0.05%'): 7,\n",
       " ('NG7 5HY', 'Cinchocaine/Prednisolone_Oint 0.5%/0.19%'): 4,\n",
       " ('GL1 3PX', 'Cyprote Acet_Tab 50mg'): 6,\n",
       " ('SR4 7XF', 'Alphosyl_Shampoo 2 In 1'): 14,\n",
       " ('M35 0AD', 'Hylo-Care Sod Hyaluronate Eye Dps P/F 10'): 5,\n",
       " ('BB8 0JZ', 'Prochlpzine Mal_Tab 5mg'): 66,\n",
       " ('BH23 3AF', 'Clomifene Cit_Tab 50mg'): 2,\n",
       " ('WN3 5HL', 'Zolmitriptan_Tab 2.5mg'): 3,\n",
       " ('LE5 3GH', 'Butec_Transdermal Patch 10mcg/hr'): 13,\n",
       " ('DA11 8BZ', 'Gaviscon Infant_Sach 2g (Dual Pack) S/F'): 17,\n",
       " ('CH65 6TG', 'Dorzolamide/Timolol_Eye Dps 2%/0.5%'): 6,\n",
       " ('SS9 5UU', 'Methotrexate_Tab 2.5mg'): 50,\n",
       " ('WD18 0JP', 'Beclomet Diprop_Nsl Spy 50mcg (200 D)'): 44,\n",
       " ('SK6 1ND', 'Nitrazepam_Tab 5mg'): 21,\n",
       " ('M26 2SP', 'Desloratadine_Tab 5mg'): 5,\n",
       " ('DN34 4GB', 'Non-Woven Fabric Swab 10cm x 10cm Non-St'): 2,\n",
       " ('WA7 1AB', 'Seretide 250_Accuhaler 250mcg/50mcg(60D)'): 15,\n",
       " ('M35 0AD', 'Forxiga_Tab 10mg'): 5,\n",
       " ('ST3 6AB', 'Diclofenac Sod_Suppos 100mg'): 2,\n",
       " ('WF13 1HN', 'Duloxetine HCl_Cap G/R 20mg'): 2,\n",
       " ('SS13 3HQ', 'Betameth Val_Crm 0.1%'): 6,\n",
       " ('BL1 8TU', 'Metformin HCl_Tab 850mg'): 69,\n",
       " ('GL1 3PX', 'Phenytoin_Sod Cap 25mg'): 2,\n",
       " ('ST8 6AG', 'Budesonide_Aq Nsl Spy 64mcg (120 D)'): 8,\n",
       " ('BB7 2JG', 'Cinacalcet HCl_Tab 30mg'): 3,\n",
       " ('HA0 4UZ', 'Terbinafine HCl_Tab 250mg'): 13,\n",
       " ('GL50 4DP', 'Salts_Confidence Natural Soft Convex Cls'): 3,\n",
       " ('CW1 3AW', 'Colecal & Calc_Tab Chble 400u/1.5g'): 6,\n",
       " ('LE10 1DS', 'Ipinnia XL_Tab 2mg'): 2,\n",
       " ('KT14 6DH', 'Dihydrocodeine Tart_Tab 30mg'): 8,\n",
       " ('CH1 4DS', 'Bendroflumethiazide_Tab 5mg'): 9,\n",
       " ('TW3 3LN', 'Chloramphen_Eye Oint 1%'): 24,\n",
       " ('B70 7AW', 'Colesevelam HCl_Tab 625mg'): 4,\n",
       " ('LS9 9EF', 'Paracet_Oral Susp 250mg/5ml S/F'): 33,\n",
       " ('HA0 4UZ', 'Propranolol HCl_Tab 80mg'): 2,\n",
       " ('SR4 7XF', 'Duloxetine HCl_Cap G/R 60mg'): 53,\n",
       " ('TS3 6AL', 'Hydrocort/Miconazole Nit_Crm 1%/2%'): 65,\n",
       " ('BB9 7SR', 'Hydroxyzine HCl_Tab 25mg'): 27,\n",
       " ('WA7 1AB', 'Ibuprofen_Oral Susp 100mg/5ml S/F'): 8,\n",
       " ('SR4 7XF', 'Propranolol HCl_Cap 80mg M/R'): 35,\n",
       " ('LE10 1DS', 'Asacol_MR Tab E/C 400mg'): 13,\n",
       " ('WS10 8SY', 'Uniphyllin Continus_Tab 200mg'): 18,\n",
       " ('WN7 1HR', 'Ibuprofen_Tab 200mg'): 18,\n",
       " ('LE18 2EW', 'Esomeprazole_Cap E/C 20mg'): 3,\n",
       " ('CT11 8AD', 'Verapamil HCl_Tab 120mg M/R'): 19,\n",
       " ('TS3 6AL', 'Buprenorphine_Patch 5mcg/hr (7day)'): 5,\n",
       " ('WN3 5HL', 'Escitalopram_Tab 20mg'): 6,\n",
       " ('DN22 7XF', 'Paroxetine HCl_Tab 30mg'): 26,\n",
       " ('B23 6DJ', 'Clinitas Carbomer Eye Gel'): 3,\n",
       " ('CH65 6TG', 'Desogestrel_Tab 75mcg'): 9,\n",
       " ('M35 0AD', 'Baclofen_Tab 10mg'): 18,\n",
       " ('WS10 8SY', 'Bricanyl_Turbohaler 500mcg (100 D)'): 2,\n",
       " ('L36 7XY', 'Cerazette_Tab 75mcg'): 4,\n",
       " ('TS17 0EE', 'Norethist_Tab 5mg'): 33,\n",
       " ('TS17 0EE', 'Latanoprost/Timolol_Eye Dps 50mcg/5mg/ml'): 18,\n",
       " ('GL50 4DP', 'Mirtazapine_Tab 15mg'): 362,\n",
       " ('BH23 3AF', 'Dutasteride_Cap 500mcg'): 8,\n",
       " ('YO16 4LZ', 'K-Y Lubri Jelly'): 4,\n",
       " ('S63 9EH', 'Fybogel_H/Fbre Gran Eff Sach3.5g OrngS/F'): 5,\n",
       " ('NG7 5HY', 'Calcipotriol_Oint 50mcg/1g'): 13,\n",
       " ('NE37 2PU', 'Fortisip Bottle_Liq (8 Flav)'): 59,\n",
       " ('CV1 4FS', 'Ticagrelor_Tab 90mg'): 12,\n",
       " ('BB7 2JG', 'Aspen_Sorbaderm No-Sting Barrier Film 1m'): 5,\n",
       " ('ST1 4PB', 'Solifenacin_Tab 5mg'): 17,\n",
       " ('DA11 8BZ', 'Ibugel Fte_Gel 10%'): 13,\n",
       " ('SR4 7XF', 'Dulaglutide_Inj 1.5mg/0.5ml Pf Dev'): 2,\n",
       " ('GL50 4DP', 'Lymecycline_Cap 408mg'): 94,\n",
       " ('OL1 1NL', 'Airomir_Inha 100mcg (200 D)'): 8,\n",
       " ('BL9 0SN', 'Vagifem_Vag Tab 10mcg'): 20,\n",
       " ('BB2 1AX', 'Fortisip Bottle_Liq (8 Flav)'): 51,\n",
       " ('BL9 0NJ', 'Aymes Shake_S/Pack Pdr'): 3,\n",
       " ('BB8 0JZ', 'Citalopram Hydrob_Tab 10mg'): 170,\n",
       " ('CT11 8AD', 'Shortec_Cap 20mg'): 7,\n",
       " ('OL4 1YN', 'Tibolone_Tab 2.5mg'): 2,\n",
       " ('CV1 4FS', 'Nasofan_Aq Nsl Spy 50mcg (150 D)'): 2,\n",
       " ('PL7 1AD', 'Buprenorphine_Tab Subling 200mcg S/F'): 5,\n",
       " ('NE38 7NQ', 'Aciclovir_Tab 200mg'): 9,\n",
       " ('LN2 2JP', 'E45_Lot'): 3,\n",
       " ('NE37 2PU', 'Prednisolone_Tab E/C 2.5mg'): 18,\n",
       " ('B21 9RY', 'Nicorandil_Tab 10mg'): 15,\n",
       " ('KT14 6DH', 'Fusidic Acid_Viscous Eye Dps 1%'): 11,\n",
       " ('SS13 3HQ', 'Betameth Val_Scalp Applic 0.1%'): 7,\n",
       " ('WA9 1LN', 'Ganfort_Eye Dps 300mcg/5mg'): 16,\n",
       " ('L7 6HD', 'Sitagliptin_Tab 100mg'): 107,\n",
       " ('NE37 2PU', 'Sod Valpr_Tab 100mg'): 24,\n",
       " ('LS9 9EF', 'Hydrocort Acet/Fusidic Acid_Crm 1%/2%'): 10,\n",
       " ('CH65 6TG', 'FreeStyle Optium (Reagent)_Strips'): 3,\n",
       " ('WN3 5HL', 'Trihexyphenidyl HCl_Tab 5mg'): 2,\n",
       " ('SK6 1ND', 'Ebesque XL_Tab 400mg'): 2,\n",
       " ('WA7 1AB', 'BD Micro-Fine Ultra Needles Pen Inj Scre'): 11,\n",
       " ('CH1 4DS', 'Finasteride_Tab 5mg'): 87,\n",
       " ('BB9 7SR', 'Sitagliptin_Tab 50mg'): 16,\n",
       " ('NE38 7NQ', 'Topiramate_Tab 25mg'): 35,\n",
       " ('OL1 1NL', 'Duloxetine HCl_Cap G/R 20mg'): 3,\n",
       " ('WN3 5HL', 'Dermax Therapeutic_Shampoo 0.5%'): 3,\n",
       " ('NW10 8RY', 'Pregabalin_Cap 75mg'): 8,\n",
       " ('NG7 3GW', 'Lisinopril_Tab 5mg'): 8,\n",
       " ('B70 7AW', 'Nitrazepam_Tab 5mg'): 4,\n",
       " ('N9 7HD', 'Travoprost/Timolol_Eye Dps 40mcg/5mg'): 14,\n",
       " ('RM3 9SU', 'Timolol_Gel Eye Dps 1mg/g 0.4g Ud P/F'): 2,\n",
       " ('FY7 8GU', 'Co-Careldopa_Tab 25mg/100mg'): 15,\n",
       " ('HU7 4DW', 'Anusol HC_Oint'): 6,\n",
       " ('BB2 1AX', 'Pregabalin_Cap 150mg'): 19,\n",
       " ('S63 9EH', 'Esomeprazole_Cap E/C 20mg'): 32,\n",
       " ('CH65 6TG', 'Ascorbic Acid_Tab 100mg'): 2,\n",
       " ('CV1 4FS', 'Oxybutynin HCl_Tab 5mg'): 17,\n",
       " ('TS23 2DG', 'OneTouch Ultra (Reagent)_Strips'): 2,\n",
       " ('NG7 3GW', 'Zonisamide_Cap 100mg'): 2,\n",
       " ('SS0 7AF', 'Losartan Pot_Tab 25mg'): 29,\n",
       " ('CB9 8HF', 'Cosopt_Ocumeter Plus Eye Dps'): 4,\n",
       " ('GL1 3PX', 'Cetraben Crm 500g'): 9,\n",
       " ('CB9 8HF', 'Esomeprazole_Tab E/C 20mg'): 19,\n",
       " ('TW8 8DS', 'Tildiem_Tab 60mg'): 4,\n",
       " ('WS10 8SY', 'Mebendazole_Oral Susp 100mg/5ml'): 2,\n",
       " ('S74 9AF', 'Betameth Val_Oint 0.025% (1 in 4)'): 3,\n",
       " ('SR5 2LT', 'Fenofibrate_Tab 160mg (Micronised)'): 8,\n",
       " ('KT6 6EZ', 'Colecal/Calc_Eff Gran Sach 440u/1.25g 4g'): 3,\n",
       " ('SK11 6JL', 'Ins Humulin M3_100u/ml 3ml Cart'): 11,\n",
       " ('M30 0NU', 'Piriton_Tab 4mg'): 10,\n",
       " ('SK11 6JL', 'Darifenacin Hydrob_Tab 7.5mg M/R'): 9,\n",
       " ('BB3 1PY', 'Sytron_Elix 190mg/5ml S/F'): 12,\n",
       " ('NE24 1DX', 'Haloperidol_Cap 500mcg'): 8,\n",
       " ('HA0 4UZ', 'Isoniazid_Tab 50mg'): 4,\n",
       " ('WA10 2DJ', 'Inadine 9.5cm x 9.5 cm Povidone Iodine F'): 3,\n",
       " ('BH23 3AF', 'Carbomer 980_Gel Eye Dps 0.2%'): 42,\n",
       " ('WV13 2DR', 'Senna_Tab 7.5mg'): 72,\n",
       " ('SR5 2LT', 'Calcipotriol_Oint 50mcg/1g'): 11,\n",
       " ('M11 4EJ', 'Chloramphen_Eye Oint 1%'): 3,\n",
       " ('LE18 2EW', 'Difflam_P/Spy 0.15% 30ml'): 2,\n",
       " ('WD18 0JP', 'Qvar 100_Inha 100mcg (200 D)'): 38,\n",
       " ('CW1 3AW', 'Ensure Plus Juce_Liq Feed (6 Flav)'): 26,\n",
       " ('BB4 5SL', 'Senna_Tab 7.5mg'): 94,\n",
       " ('BL1 8TU', 'Symbicort_Turbohaler 200mcg/6mcg (120 D)'): 32,\n",
       " ('TN34 1BA', 'Escitalopram_Oral Dps 20mg/ml S/F'): 2,\n",
       " ('SK6 1ND', 'Tegretol Prolonged Release_Tab 400mg M/R'): 19,\n",
       " ('M30 0NU', 'Ferr Fumar_Oral Soln 140mg/5ml'): 2,\n",
       " ('DA1 2HA', 'Alfacalcidol_Cap 500ng'): 5,\n",
       " ('CW1 3AW', 'Nexium_Tab 40mg'): 4,\n",
       " ('L7 6HD', 'Ins Lantus_100u/ml 3ml Cart'): 3,\n",
       " ('SR4 7XF', 'Lisinopril_Tab 10mg'): 414,\n",
       " ('W10 6DZ', 'Cefalexin_Tab 250mg'): 3,\n",
       " ('LE18 2EW', 'Aerochamber Plus + Adult/Child/Infant Ma'): 20,\n",
       " ('OL9 7AY', 'Doxazosin Mesil_Tab 2mg'): 25,\n",
       " ('M11 4EJ', 'Trimethoprim_Tab 100mg'): 7,\n",
       " ('CT11 8AD', 'Tramadol HCl_Tab 50mg M/R'): 3,\n",
       " ('M35 0AD', 'Mepore 11cm x 15cm Pfa + Adh Border Dres'): 4,\n",
       " ('SK11 6JL', 'Lixisenatide_Inj 20mcg/0.2ml 3ml Pf Pen'): 6,\n",
       " ('CB9 8HF', 'Balneum Plus_Crm'): 6,\n",
       " ('S63 9EH', 'Leflunomide_Tab 10mg'): 4,\n",
       " ('NE10 9QG', 'Sod Valpr_Tab 100mg'): 8,\n",
       " ('CV1 4FS', 'Spironol_Tab 50mg'): 6,\n",
       " ('M35 0AD', 'Chlorphenamine Mal_Tab 4mg'): 20,\n",
       " ('OL1 1NL', 'Xalacom_Eye Dps 50mcg/5mg/ml'): 3,\n",
       " ('WF13 1HN', 'Lansoprazole_Orodisper Tab 15mg'): 3,\n",
       " ('WN2 5NG', 'Longtec_Tab 20mg M/R'): 5,\n",
       " ('NE38 7NQ', 'AndoFlex UBZ Ltx Free 2 Layer+Zinc 10cm'): 2,\n",
       " ('WA7 1AB', 'Amias_Tab 8mg'): 2,\n",
       " ('LN2 2JP', 'Warfarin Sod_Tab 500mcg'): 49,\n",
       " ('CW1 3AW', 'Tacrolimus_Oint 0.1%'): 4,\n",
       " ('OL4 1YN', 'Sertraline HCl_Tab 100mg'): 140,\n",
       " ('CH65 6TG', 'Matrifen_Patch 12mcg/hr'): 7,\n",
       " ('SR4 7XF', 'Hydroxyzine HCl_Tab 25mg'): 12,\n",
       " ('WA9 1LN', 'Aymes Shake_Pdr (Vanilla)'): 2,\n",
       " ('TS24 7PW', 'Colecal & Calc_Tab Chble 400u/1.5g'): 96,\n",
       " ('ME8 8AA', 'Glyceryl Trinit_Sub A/Spy 400mcg (200D)'): 4,\n",
       " ('HG1 5AR', 'Anusol_Crm'): 3,\n",
       " ('GL50 4DP', 'Ins NovoMix 30_Penfill 100u/ml 3ml Cart'): 19,\n",
       " ('SM6 0HY', 'Losartan Pot_Tab 25mg'): 52,\n",
       " ('BL9 0NJ', 'Ramipril_Tab 10mg'): 2,\n",
       " ('BB8 0JZ', 'Ranitidine HCl_Oral Soln 75mg/5ml S/F'): 5,\n",
       " ('YO16 4LZ', 'Alphosyl_Shampoo 2 In 1'): 11,\n",
       " ('SE1 6JP', 'Priadel_Tab 200mg'): 12,\n",
       " ('OL9 7AY', 'Azathioprine_Tab 50mg'): 9,\n",
       " ('WS3 3JP', 'Optiflo G Cath Maint Soln 50ml'): 4,\n",
       " ('BB3 1PY', 'Pravastatin Sod_Tab 20mg'): 36,\n",
       " ('OL11 1DN', 'Prednisolone_Tab 5mg'): 158,\n",
       " ('B18 7AL', 'GlucoRx Nexus (Reagent)_Strips'): 112,\n",
       " ('CB9 8HF', 'Active (Reagent)_Strips'): 5,\n",
       " ('LN2 2JP', 'Brimonidine/Timolol_Eye Dps 2mg/5mg/ml'): 2,\n",
       " ('CH1 4DS', 'Pimecrolimus_Crm 1%'): 3,\n",
       " ('CH65 6TG', 'Ketoconazole_Crm 2%'): 4,\n",
       " ('LE5 3GH', 'Hydroxyzine HCl_Tab 10mg'): 3,\n",
       " ('LA1 1PN', 'Fesoterodine Fumar_Tab 8mg M/R'): 4,\n",
       " ('BB11 2DL', 'Orlistat_Cap 120mg'): 27,\n",
       " ('SS9 5UU', 'Buprenorphine_Patch 20mcg/hr (7day)'): 6,\n",
       " ('LN2 2JP', 'Alphagan_Eye Dps 0.2%'): 2,\n",
       " ('TN34 1BA', 'Desunin_Tab 800u'): 5,\n",
       " ('BB11 2DL', 'Fluconazole_Cap 50mg'): 5,\n",
       " ('SR5 2LT', 'Zineryt_Lot'): 2,\n",
       " ('BB4 5SL', 'Sod Feredetate_Oral Soln 190mg/5ml S/F'): 9,\n",
       " ('B18 7AL', 'Sitagliptin_Tab 100mg'): 49,\n",
       " ('B23 6DJ', 'Colchicine_Tab 500mcg'): 11,\n",
       " ('M11 4EJ', 'K-Y Lubri Jelly'): 2,\n",
       " ('NE10 9QG', 'Ins Lantus_100u/ml 3ml Cart'): 4,\n",
       " ('NE38 7NQ', 'Keppra_Tab 500mg'): 5,\n",
       " ('DN34 4GB', 'Dioralyte_Pdr Sach (Blkcurrant)'): 6,\n",
       " ('SS0 7AF', 'Omacor_Cap'): 2,\n",
       " ('S74 9AF', 'Metoclopramide HCl_Tab 10mg'): 20,\n",
       " ('SR4 7XF', 'Oxybutynin HCl_Tab 3mg'): 5,\n",
       " ('GL50 4DP', 'Nitrofurantoin_Cap 100mg M/R'): 59,\n",
       " ('KT14 6DH', 'Fluoxetine HCl_Cap 20mg'): 113,\n",
       " ('TS17 0EE', 'Metformin HCl_Tab 1g M/R'): 108,\n",
       " ('CW5 5NX', 'Estriol_Crm 0.1% + Applic'): 3,\n",
       " ('BB8 0JZ', 'Fluticasone/Salmeterol_Inh 500/50mcg 60D'): 22,\n",
       " ('WA10 2DJ', 'Seretide 100_Accuhaler 100mcg/50mcg(60D)'): 7,\n",
       " ('OL4 1YN', 'Allopurinol_Tab 100mg'): 50,\n",
       " ('CW7 1AT', 'Losartan Pot_Tab 25mg'): 67,\n",
       " ('S63 9EH', 'Prednisolone_Tab Solb 5mg'): 5,\n",
       " ('LS9 9EF', 'Creon 25000_Cap E/C'): 32,\n",
       " ('L7 6HD', 'Linagliptin_Tab 5mg'): 142,\n",
       " ('W10 6DZ', 'Sod Bicarb_Cap 500mg'): 11,\n",
       " ('CT11 8AD', 'Lacidipine_Tab 2mg'): 2,\n",
       " ('CB9 8HF', 'Carbamazepine_Tab 400mg'): 13,\n",
       " ('NE37 2PU', 'Simvastatin_Tab 40mg'): 1292,\n",
       " ('WD18 0JP', 'Simvastatin_Tab 20mg'): 230,\n",
       " ('M30 0NU', 'Mirabegron_Tab 25mg M/R'): 10,\n",
       " ('SS13 3HQ', 'Carbomer 980_Gel Eye Dps 0.2% 0.6mlUdP/F'): 3,\n",
       " ('CH1 4DS', 'Enalapril Mal_Tab 10mg'): 8,\n",
       " ('BB7 2JG', 'Prednisolone_Tab Solb 5mg'): 25,\n",
       " ('FY2 0JG', 'Fostair NEXThaler_Inh 100mcg/6mcg (120D)'): 16,\n",
       " ('SS13 3HQ', 'Microdot Droplet Needles Pen Inj Screw O'): 38,\n",
       " ('LE5 3GH', 'Paracet_Cap 500mg'): 6,\n",
       " ('BH18 8EE', 'Duloxetine HCl_Cap G/R 60mg'): 25,\n",
       " ('CB9 8HF', 'Dermol_Crm'): 31,\n",
       " ('TS23 2DG', 'Zolmitriptan_Tab 2.5mg'): 10,\n",
       " ('CW7 1AT', 'Diclof Sod E/C /Misopros_Tab 50mg/200mcg'): 3,\n",
       " ('L36 7XY', 'Warfarin Sod_Tab 1mg'): 79,\n",
       " ('TS3 6AL', 'Fentanyl_Transdermal Patch 50mcg/hr'): 5,\n",
       " ('SE15 5LJ', 'Hylo-Forte Sod Hyaluronate Eye Dps 0.2%'): 7,\n",
       " ('DA11 8BZ', 'Lansoprazole_Orodisper Tab 15mg'): 2,\n",
       " ('KT14 6DH', 'Performa (Reagent)_Strips'): 35,\n",
       " ('WD18 0JP', 'Forticreme Complete_Dessert (F/Fruits)'): 3,\n",
       " ('LE10 1DS', 'Loestrin 20_Tab'): 12,\n",
       " ('BB2 1AX', 'Hydrocort_Crm 1%'): 56,\n",
       " ('N9 7HD', 'Topiramate_Tab 25mg'): 16,\n",
       " ('OL4 1YN', 'Hylo-Fresh Sod Hyaluronate Eye Dps P/F 1'): 3,\n",
       " ('BB9 7SR', 'Dansac_Nova 1 Drnbl + E/Fld Ileo Bag Sym'): 7,\n",
       " ('M35 0AD', 'Bendroflumethiazide_Tab 2.5mg'): 385,\n",
       " ('LS9 9EF', 'Ciprofloxacin_Tab 250mg'): 5,\n",
       " ('TW3 3LN', 'Atenolol_Tab 50mg'): 168,\n",
       " ('DA11 8BZ', 'Simple_Linct S/F'): 3,\n",
       " ('S65 1DA', 'EPA/DHA_Cap 460mg/380mg'): 9,\n",
       " ('RM3 9SU', 'Venlafaxine_Tab 150mg M/R'): 3,\n",
       " ('TS1 2NX', 'Co-Trimoxazole_Tab 80mg/400mg'): 4,\n",
       " ('BB8 0JZ', 'Qvar 50 E-Breathe_Inha 50mcg (200 D)'): 11,\n",
       " ('BL9 0NJ', 'Calogen_Emuls (Neutral)'): 5,\n",
       " ('TW3 3LN', 'Pro D3_Cap 1 000u'): 10,\n",
       " ('LE18 2EW', 'Glimepiride_Tab 2mg'): 2,\n",
       " ('TS10 4NW', 'Verapamil HCl_Tab 240mg M/R'): 4,\n",
       " ('RM3 9SU', 'Celluvisc_Eye Dps 1% 0.4ml Ud'): 5,\n",
       " ('BB9 7SR', 'Lofepramine HCl_Tab 70mg'): 5,\n",
       " ('DA11 8BZ', 'Tegretol_Tab 200mg'): 4,\n",
       " ('GL1 3PX', 'Gaviscon_Liq Orig Aniseed Relief'): 2,\n",
       " ('SE15 5LJ', 'Baclofen_Tab 10mg'): 23,\n",
       " ('CW7 1AT', 'Matrifen_Patch 50mcg/hr'): 3,\n",
       " ('FY4 1TJ', 'Oilatum_Crm (New Form) (Liq)'): 13,\n",
       " ('BB3 1PY', 'Asacol_MR Tab E/C 800mg'): 5,\n",
       " ('B23 6DJ', 'Fortisip Compact Fibre_Liq (3 Flav)'): 3,\n",
       " ('SS13 3HQ', 'Thiamine HCl_Tab 100mg'): 79,\n",
       " ('B18 7AL', 'Metformin HCl_Tab 500mg'): 421,\n",
       " ('LS9 9EF', 'Trimethoprim_Tab 200mg'): 23,\n",
       " ('M11 4EJ', 'Madopar_Cap 100mg/25mg'): 2,\n",
       " ('WN3 5HL', 'Celecoxib_Cap 100mg'): 10,\n",
       " ('SK11 6JL', 'Pro D3_Cap 10 000u'): 3,\n",
       " ('CB9 8HF', 'Paracet_Oral Susp 250mg/5ml'): 16,\n",
       " ('SM6 0HY', 'Metoclopramide HCl_Tab 10mg'): 26,\n",
       " ('HU7 4DW', 'Irbesartan_Tab 300mg'): 22,\n",
       " ('SS13 3HQ', 'Adalat LA 20_Tab 20mg'): 3,\n",
       " ('TW3 3LN', 'Clarithromycin_Oral Susp 250mg/5ml'): 4,\n",
       " ('SS13 3HQ', 'Sulfasalazine_Tab E/C 500mg'): 8,\n",
       " ('BB8 0JZ', 'Prednisolone_Tab E/C 2.5mg'): 12,\n",
       " ('BL3 5HP', 'Loratadine_Tab 10mg'): 57,\n",
       " ('ST3 6AB', 'Diltiazem HCl_Cap 60mg M/R'): 10,\n",
       " ('TS24 7PW', 'Atenolol_Oral Soln 25mg/5ml S/F'): 3,\n",
       " ('SE1 6JP', 'Verapamil HCl_Tab 120mg M/R'): 8,\n",
       " ('ST3 6AB', 'Ebesque XL_Tab 300mg'): 9,\n",
       " ('YO16 4LZ', 'Solaraze_Gel 3%'): 2,\n",
       " ('SS8 0JA', 'Fentanyl_Transdermal Patch 75mcg/hr'): 3,\n",
       " ('WN2 5NG', 'Fentanyl_Transdermal Patch 50mcg/hr'): 4,\n",
       " ('L31 0DJ', 'Adizem-XL_Cap 240mg'): 3,\n",
       " ('TS10 4NW', 'Convatec_Orahesive Pdr'): 10,\n",
       " ('SE15 5LJ', 'Mometasone Fur_Aq N/Spy 50mcg (140 D)'): 25,\n",
       " ('HA0 4UZ', 'Colecal_Cap 1 000u'): 3,\n",
       " ('N9 7HD', 'Nutrison_Soya'): 2,\n",
       " ('GL1 3PX', 'Rabeprazole Sod_Tab E/C 10mg'): 7,\n",
       " ('FY5 2TZ', 'Aerochamber Plus'): 36,\n",
       " ('NE37 2PU', 'Olanzapine_Tab 20mg'): 11,\n",
       " ('HA3 7LT', 'Trimethoprim_Tab 100mg'): 4,\n",
       " ('NE37 2PU', 'Loperamide HCl_Tab 2mg'): 7,\n",
       " ('BB2 1AX', 'Nefopam HCl_Tab 30mg'): 5,\n",
       " ('B70 7AW', 'Zopiclone_Tab 7.5mg'): 115,\n",
       " ('N9 7HD', 'Phenoxymethylpenicillin_Soln 125mg/5ml'): 18,\n",
       " ('CW1 3AW', 'Atrauman 7.5cm x 10cm Ktd Polyester Dres'): 39,\n",
       " ('SE15 5LJ', 'Loperamide HCl_Tab 2mg'): 9,\n",
       " ('ME8 8AA', 'Peppermint Oil_Cap E/C 0.2ml'): 4,\n",
       " ('TN34 1BA', 'Migraleve_Pink Tab'): 4,\n",
       " ('TS3 6AL', 'Meloxicam_Tab 7.5mg'): 7,\n",
       " ('TN24 0GP', 'Clotrimazole_Crm 10%'): 2,\n",
       " ('BB11 2DL', 'Proctosedyl_Oint'): 4,\n",
       " ('TN24 0GP', 'NovoFine Needles Pen Inj Screw On 6mm'): 2,\n",
       " ('ST8 6AG', 'Atrauman 7.5cm x 10cm Ktd Polyester Dres'): 8,\n",
       " ('SS13 3HQ', 'Oxycodone HCl_Cap 10mg'): 2,\n",
       " ('BB7 2JG', 'Carbamazepine_Tab 200mg'): 3,\n",
       " ('SE1 6JP', 'Levothyrox Sod_Tab 25mcg'): 349,\n",
       " ('TR1 2JA', 'Buccastem M_Tab 3mg'): 4,\n",
       " ('WD18 0JP', 'Pneumococcal_Vac 0.5ml Vl (23 Valent)'): 32,\n",
       " ('ST8 6AG', 'Aspirin_Tab 75mg'): 118,\n",
       " ('WA9 1LN', 'Optive Plus 0.5% Carmellose Eye Dps'): 3,\n",
       " ('TN24 0GP', 'Clenil Modulite_Inha 200mcg (200D)'): 8,\n",
       " ('TS3 6AL', 'Mepilex Border 7cm x 7.5cm Wound Dress S'): 11,\n",
       " ('TS17 0EE', 'Co-Amoxiclav_Tab 500mg/125mg'): 31,\n",
       " ('TS24 7PW', 'Temazepam_Tab 20mg'): 33,\n",
       " ('CB9 8HF', 'Acetic Acid_Ear Spy 2% 5ml'): 4,\n",
       " ('L31 0DJ', 'Bisoprolol Fumar_Tab 7.5mg'): 21,\n",
       " ('CW1 3AW', 'Dorzolamide_Eye Dps 2%'): 6,\n",
       " ('FY5 2TZ', 'Cilest_Tab'): 10,\n",
       " ('OL9 7AY', 'Seretide 500_Accuhaler 500mcg/50mcg(60D)'): 15,\n",
       " ('L7 6HD', 'Atorvastatin_Tab 40mg'): 574,\n",
       " ('CW1 3AW', 'Levetiracetam_Oral Soln 500mg/5ml S/F'): 6,\n",
       " ('GL1 3PX', 'Temazepam_Oral Soln 10mg/5ml S/F'): 4,\n",
       " ('BH23 3AF', 'Xailin Night Paraf Eye Oint P/F 5g'): 6,\n",
       " ('BB8 0JZ', 'Rabeprazole Sod_Tab E/C 20mg'): 12,\n",
       " ('WV13 2DR', 'Mesalazine_Tab E/C 400mg'): 2,\n",
       " ('LN2 2JP', 'Lyrica_Cap 150mg'): 9,\n",
       " ('LE10 1DS', 'Triamcinol Aceton_Aq Nsl Spy 55mcg(120D)'): 3,\n",
       " ('BB9 7SR', 'PaediaSure Plus_Liq (3 Flav)'): 3,\n",
       " ('TW3 3LN', 'Quetiapine_Tab 25mg'): 18,\n",
       " ('SM3 8EP', 'Carbocisteine_Oral Soln 250mg/5ml'): 3,\n",
       " ('LE18 2EW', 'Clobetasol Prop_Scalp Applic 0.05%'): 2,\n",
       " ('B21 9RY', 'Glucoject No-dol Lancets 0.315mm/30 Gaug'): 6,\n",
       " ('HA0 4UZ', 'Olanzapine_Tab 5mg'): 9,\n",
       " ('S63 9EH', 'Testosterone Undecan_Inj 250mg/ml 4ml Vl'): 6,\n",
       " ('NE38 7NQ', 'Tramadol HCl_Cap 50mg'): 469,\n",
       " ('B21 9RY', 'Alzain_Cap 100mg'): 4,\n",
       " ('M30 0NU', 'Chemydur 60 XL_Tab 60mg'): 108,\n",
       " ('S65 1DA', 'Asasantin Ret_Cap'): 3,\n",
       " ('BB11 2DL', 'Lido HCl/Prilocaine_Crm 2.5%/2.5%'): 4,\n",
       " ('TW13 4GU', 'Perindopril Erbumine_Tab 2mg'): 21,\n",
       " ('BL3 5HP', 'Lisinopril_Tab 2.5mg'): 13,\n",
       " ('TS24 7PW', 'Spiriva_Pdr For Inh Cap 18mcg+HandiHaler'): 2,\n",
       " ('NN16 8DN', 'Carbamazepine_Oral Liq 100mg/5ml S/F'): 2,\n",
       " ('WN2 5NG', 'Omeprazole_Cap E/C 40mg'): 60,\n",
       " ('LS9 9EF', 'Felodipine_Tab 10mg M/R'): 36,\n",
       " ('CH1 4DS', 'Epilim_Liq 200mg/5ml S/F'): 5,\n",
       " ('DN22 7XF', 'Clinipore 2.5cm x 5m Surg Adh Tape Perm'): 18,\n",
       " ('WS3 3JP', 'Gaviscon Advance_Liq (Aniseed) (Reckitt)'): 25,\n",
       " ('BH23 3AF', 'Vagifem_Vag Tab 10mcg'): 16,\n",
       " ('CW7 1AT', 'Dioralyte_Pdr Sach (Blkcurrant)'): 5,\n",
       " ('PL7 1AD', 'Nitrofurantoin_Tab 50mg'): 5,\n",
       " ('SS0 7AF', 'Aymes Complete Starter Pack_Liq'): 4,\n",
       " ('TN34 1BA', 'MicardisPlus_Tab 80mg/12.5mg'): 3,\n",
       " ('NW10 8RY', 'Ferr Sulf_Tab 200mg'): 37,\n",
       " ('WN2 5NG', 'Amitriptyline HCl_Tab 50mg'): 62,\n",
       " ('BH18 8EE', 'Risedronate Sod_Tab 35mg'): 8,\n",
       " ('BB9 7SR', 'Latanoprost_Eye Dps 50mcg/ml'): 115,\n",
       " ('WA10 2DJ', 'Artelac Rebalance Eye Dps'): 2,\n",
       " ('HG1 5AR', 'Gentamicin Sulf_Inj 40mg/ml 2ml Amp'): 2,\n",
       " ('TR1 2JA', 'Ramipril_Tab 10mg'): 4,\n",
       " ('BD3 8QH', 'Peppermint Oil_Cap E/C 0.2ml M/R'): 6,\n",
       " ('SK6 1ND', 'Anastrozole_Tab 1mg'): 8,\n",
       " ('NN16 8DN', 'Diclofenac Sod_Suppos 100mg'): 5,\n",
       " ('NE24 1DX', 'Loestrin 30_Tab'): 4,\n",
       " ('ST3 6AB', 'Duloxetine HCl_Cap G/R 40mg'): 3,\n",
       " ('FY4 1TJ', 'Enalapril Mal_Tab 5mg'): 17,\n",
       " ('B23 6DJ', 'Almotriptan_Tab 12.5mg'): 5,\n",
       " ('FY2 0JG', 'Zerocream (Appl)'): 9,\n",
       " ('S63 9EH', 'Carmellose Sod_Eye Dps 0.5% 0.4ml Ud P/F'): 6,\n",
       " ('BL3 5HP', 'Donepezil HCl_Tab 5mg'): 2,\n",
       " ('TS17 0EE', 'Valproic Acid_Tab G/R 250mg'): 2,\n",
       " ('WS10 8SY', 'Paracet_Oral Susp Paed 120mg/5ml'): 11,\n",
       " ('BB2 1AX', 'Olanzapine_Tab 5mg'): 26,\n",
       " ('FY2 0JG', 'Atomoxetine HCl_Cap 80mg'): 3,\n",
       " ('BB9 7SR', 'Propiverine HCl_Cap 30mg M/R'): 2,\n",
       " ('BL3 5HP', 'Doxazosin Mesil_Tab 8mg M/R'): 15,\n",
       " ('S74 9AF', 'Salazopyrin-En_Tab 500mg'): 35,\n",
       " ('WS10 8SY', 'Sod Algin/Pot Bicarb_Susp S/F'): 23,\n",
       " ('TW3 3LN', 'Mezolar Matrix_TransdermalPatch 25mcg/hr'): 4,\n",
       " ('TR1 2JA', 'Fluticasone Prop_Nsl Spy 50mcg (150 D)'): 24,\n",
       " ('M35 0AD', 'Losartan Pot/Hydchloroth_Tab 50mg/12.5mg'): 2,\n",
       " ('NE10 9QG', 'Procyclidine HCl_Tab 5mg'): 50,\n",
       " ('CB9 8HF', 'Aciclovir_Crm 5%'): 6,\n",
       " ('DN34 4GB', 'Chlorpromazine HCl_Tab 25mg'): 3,\n",
       " ('OL11 1DN', 'Ferr Sulf_Tab 200mg'): 65,\n",
       " ('NE38 7NQ', 'Erythromycin/Zn Acet_Lot 40mg/Ml/12mg/ml'): 6,\n",
       " ('CW7 1AT', 'Fybogel_Gran Sach 3.5g Plain G/F S/F'): 6,\n",
       " ('BH18 8EE', 'Great Bear_GB SOFT SKIN No Sting Medic A'): 7,\n",
       " ('CB9 8HF', 'Doxazosin Mesil_Tab 1mg'): 35,\n",
       " ('KT6 6EZ', 'Hy-Opti 0.1% Sod Hyaluronate Eye Dps 10m'): 3,\n",
       " ('SS0 7AF', 'Lamotrigine_Tab 100mg'): 20,\n",
       " ('NE24 1DX', 'Anusol HC_Suppos'): 5,\n",
       " ('NE24 1DX', 'Gliclazide_Tab 30mg M/R'): 4,\n",
       " ('RM3 9SU', 'Salazopyrin-En_Tab 500mg'): 2,\n",
       " ('CW7 1AT', 'Naftidrofuryl Oxal_Cap 100mg'): 2,\n",
       " ('M35 0AD', 'Adizem-XL_Cap 200mg'): 4,\n",
       " ('SK6 1ND', 'Emozul_Cap E/C 20mg'): 4,\n",
       " ('L5 0QW', 'Vensir XL_Cap 150mg'): 14,\n",
       " ('WS3 3JP', 'Ursodeoxycholic Acid_Cap 250mg'): 6,\n",
       " ('M30 0NU', 'Simvastatin_Tab 40mg'): 580,\n",
       " ('BB11 2DL', 'Tenif_Cap 50mg/20mg M/R'): 2,\n",
       " ('WA7 1AB', 'Premarin_Tab 1.25mg'): 3,\n",
       " ('SM3 8EP', 'Lumigan_Eye Dps 100mcg/ml'): 4,\n",
       " ('BH18 8EE', 'Nebivolol_Tab 10mg'): 3,\n",
       " ('SS9 5UU', 'Co-Codamol_Cap 30mg/500mg'): 63,\n",
       " ('N9 7HD', 'Simple_Linct'): 13,\n",
       " ('OL1 1NL', 'Ipratrop Brom_Aq Nsl Spy 21mcg (180D)CFF'): 6,\n",
       " ('FY5 2TZ', 'Lansoprazole_Cap 30mg (E/C Gran)'): 516,\n",
       " ('LA1 1PN', 'Adapalene_Crm 0.1%'): 2,\n",
       " ('TS17 0EE', 'Epilim Chrono 200_Tab 200mg C/R'): 11,\n",
       " ('FY7 8GU', 'Sildenafil_Tab 25mg'): 4,\n",
       " ('ST3 6AB', 'Lactulose_Soln 3.1g-3.7g/5ml'): 161,\n",
       " ('GU9 9QS', 'Mebeverine HCl_Tab 135mg'): 57,\n",
       " ('ST1 4PB', 'Carbamazepine_Tab 100mg'): 7,\n",
       " ('DA1 2HA', 'Efudix_Crm 5%'): 4,\n",
       " ('TS3 6AL', 'Tamsulosin/Dutasteride HCl_Cap 0.4/0.5mg'): 7,\n",
       " ('DN34 4GB', 'Coloplast_SenSura Soft Seal Maxi Split S'): 3,\n",
       " ('LE10 1DS', 'Metronidazole_Tab 400mg'): 14,\n",
       " ('TS1 2NX', 'Fluticasone/Formoterol_Inh 125/5mcg 120D'): 15,\n",
       " ('OL1 1NL', 'Bisoprolol Fumar_Tab 10mg'): 36,\n",
       " ('M35 0AD', 'Colecal & Calc_Tab Chble 400u/1.5g'): 39,\n",
       " ('SK6 1ND', 'Normacol_Gran 62%'): 4,\n",
       " ('LS9 9EF', 'Cocois_Oint'): 3,\n",
       " ('WF13 1HN', 'Loperamide HCl_Cap 2mg'): 32,\n",
       " ('CB9 8HF', 'Nasonex_Aq N/Spy 50mcg (140 D)'): 8,\n",
       " ('SS13 3HQ', 'Colecal & Calc_Tab Chble 400u/1.5g'): 264,\n",
       " ('LE5 3GH', 'Carbamazepine_Tab 400mg'): 5,\n",
       " ('B18 7AL', 'Pholcodine_Linct 5mg/5ml S/F'): 71,\n",
       " ('LN2 2JP', 'Donepezil HCl_Tab 10mg'): 103,\n",
       " ('BH23 3AF', 'Rosuvastatin Calc_Tab 20mg'): 29,\n",
       " ('LA1 1PN', 'Bimatoprost_Eye Dps 300mcg/ml 0.4ml Ud'): 3,\n",
       " ('WF13 1HN', 'Biquelle XL_Tab 200mg'): 13,\n",
       " ('ST3 6AB', 'Sulfasalazine_Tab E/C 500mg'): 11,\n",
       " ('HG1 5AR', 'Sulfasalazine_Tab E/C 500mg'): 5,\n",
       " ('S63 9EH', 'Avamys_Nsl Spy 27.5mcg (120D)'): 9,\n",
       " ('CW1 3AW', 'Diazepam_Tab 2mg'): 162,\n",
       " ('HA0 4UZ', 'Irbesartan_Tab 150mg'): 26,\n",
       " ('GU9 9QS', 'Brimonidine Tart_Eye Dps 0.2%'): 9,\n",
       " ('CW5 5NX', 'Ispag Husk_Gran Eff Sach 3.5g G/F S/F'): 46,\n",
       " ('DN34 4GB', 'Noriday_Tab 350mcg'): 2,\n",
       " ('HG1 5AR', 'Erythromycin_Tab E/C 250mg'): 16,\n",
       " ('WD18 0JP', 'Sitagliptin_Tab 50mg'): 12,\n",
       " ('TS24 7PW', 'Amoxicillin_Oral Susp 125mg/5ml S/F'): 67,\n",
       " ('BH23 3AF', 'Oxycodone HCl_Tab 40mg M/R'): 4,\n",
       " ('WA7 1AB', 'Hydroxyzine HCl_Tab 25mg'): 23,\n",
       " ('DA11 8BZ', 'Seretide 250_Evohaler 250mcg/25mcg(120D)'): 14,\n",
       " ('FY4 1TJ', 'Trospium Chlor_Tab 20mg'): 7,\n",
       " ('SS8 0JA', 'Metronidazole_Vag Gel 0.75%'): 2,\n",
       " ('CH65 6TG', 'Zomorph_Cap 30mg'): 29,\n",
       " ('B23 6DJ', 'Lyrica_Cap 150mg'): 6,\n",
       " ('BD3 8QH', 'E45_Dry Scalp Shampoo'): 2,\n",
       " ('LE18 2EW', 'Miconazole Nit_Crm 2%'): 12,\n",
       " ('LE5 3GH', 'Epipen Jr_Auto-Inj 1/2000 0.5mg/ml 0.3ml'): 2,\n",
       " ('SK11 6JL', 'Flutiform_Inha 250/10mcg (120 D)'): 17,\n",
       " ('TS3 6AL', 'Bendroflumethiazide_Tab 2.5mg'): 406,\n",
       " ('FY5 2TZ', 'Clobetasol Prop_Crm 0.05%'): 18,\n",
       " ('NE24 1DX', 'Sotalol HCl_Tab 80mg'): 3,\n",
       " ('CB9 8HF', 'Neoral_Cap 25mg'): 4,\n",
       " ('OL1 1NL', 'Ins Humulin M3_100u/ml 3ml Cart'): 3,\n",
       " ('TS24 7PW', 'Omeprazole_Tab Disper 10mg (E/C Pellets)'): 6,\n",
       " ('DN22 7XF', 'Nova-T 380 Iucd'): 5,\n",
       " ('WA7 1AB', 'Ticagrelor_Tab 90mg'): 22,\n",
       " ('B21 9RY', 'Spironol_Tab 25mg'): 29,\n",
       " ('WN3 5HL', 'Mst Continus_Tab 5mg'): 6,\n",
       " ('TW3 3LN', 'Isosorbide Mononit_Tab 60mg M/R'): 56,\n",
       " ('FY4 1TJ', 'Hollister Advance Intermit Male 8-18 (25'): 8,\n",
       " ('WN7 2PE', 'Dorzolamide_Eye Dps 2%'): 12,\n",
       " ('WN2 5NG', 'Airomir_Autohaler 100mcg (200 D) CFF'): 2,\n",
       " ('DN34 4GB', 'Paroxetine HCl_Tab 20mg'): 21,\n",
       " ('GL1 3PX', 'Amiodarone HCl_Tab 100mg'): 4,\n",
       " ('RM3 9SU', 'Gz Swabs BP 10cm x 10cm'): 11,\n",
       " ('WA9 1LN', 'Fluticasone/Salmeterol_Inh 250/25mcg120D'): 6,\n",
       " ('CB9 8HF', 'Nicorandil_Tab 20mg'): 27,\n",
       " ('KT6 6EZ', 'Laxido_Oral Pdr Sach (Orange) S/F'): 34,\n",
       " ('BB4 5SL', 'Metformin HCl_Tab 1g M/R'): 41,\n",
       " ('BH23 3AF', 'Dermol 200_Shower Emollient'): 22,\n",
       " ('CV1 4FS', 'Varenicline Tart_Tab 1mg'): 3,\n",
       " ('HG1 5AR', 'Atrop Sulf_Eye Dps 1%'): 2,\n",
       " ('WN7 1HR', 'Simple_Linct Paed S/F'): 10,\n",
       " ('FY7 8GU', 'Ciprofloxacin_Tab 500mg'): 6,\n",
       " ('DN22 7XF', 'Elantan LA 50_Cap 50mg'): 2,\n",
       " ('ME8 8AA', 'Symbicort_Turbohaler 100mcg/6mcg (120 D)'): 5,\n",
       " ('DA11 8BZ', 'Maxidex_Eye Dps 0.1%'): 4,\n",
       " ('CH1 4DS', 'Fybogel_H/Fbre Gran Eff Sach3.5g OrngS/F'): 2,\n",
       " ('GL1 3PX', 'Sotalol HCl_Tab 40mg'): 19,\n",
       " ('WV13 2DR', 'Dioralyte_Pdr Sach (Blkcurrant)'): 31,\n",
       " ('TW13 4GU', 'Ins Levemir_FlexPen 100u/ml 3ml Pf Pen'): 8,\n",
       " ('BB8 0JZ', 'CliniSupplies_Leg Bag Straps + Slc Leg G'): 2,\n",
       " ('BD3 8QH', 'Brimonidine Tart_Eye Dps 0.2%'): 5,\n",
       " ('TS3 6AL', 'Fentanyl_Transdermal Patch 75mcg/hr'): 5,\n",
       " ('TS23 2DG', 'Felodipine_Tab 2.5mg M/R'): 18,\n",
       " ('SR5 2LT', 'Naproxen_Tab 250mg'): 45,\n",
       " ('M26 2SP', 'Nitrazepam_Tab 5mg'): 39,\n",
       " ('CV1 4FS', 'Omeprazole_Cap E/C 20mg'): 1112,\n",
       " ('TR1 2JA', 'Omeprazole_Cap E/C 20mg'): 1861,\n",
       " ('DA1 2HA', 'Prednisolone_Tab 5mg'): 54,\n",
       " ('NN16 8DN', 'Enoxaparin_Inj 100mg/ml 1ml Pfs'): 4,\n",
       " ('CW7 1AT', 'Neocate LCP_Pdr'): 3,\n",
       " ('ME8 8AA', 'QV Gentle Wsh'): 7,\n",
       " ('YO16 4LZ', 'Pioglitazone HCl_Tab 15mg'): 3,\n",
       " ('HA3 7LT', 'Domperidone_Tab 10mg'): 6,\n",
       " ('BB4 5SL', 'Loestrin 30_Tab'): 2,\n",
       " ('WD18 0JP', 'Colecal_Tab 2 000u'): 4,\n",
       " ('CB9 8HF', 'Hydrocort_Mucoadh Buccal Tab 2.5mg S/F'): 2,\n",
       " ('NE24 1DX', 'Metronidazole_Vag Gel 0.75%'): 4,\n",
       " ('SS0 7AF', 'Dansac_EasiSpray Adh Remover 50ml'): 6,\n",
       " ('BD3 8QH', 'Microlet Lancets 0.5mm/28 Gauge'): 19,\n",
       " ('BL9 0NJ', 'FreeStyle Lite (Reagent)_Strips'): 3,\n",
       " ('TS1 2NX', 'Latanoprost_Eye Dps 50mcg/ml'): 84,\n",
       " ('M35 0AD', 'Glutafin_G/F W/F Spiral'): 2,\n",
       " ('W10 6DZ', 'Clarithromycin_Oral Susp 125mg/5ml'): 9,\n",
       " ('M11 4EJ', 'Promethazine HCl_Tab 25mg'): 11,\n",
       " ('BB11 2DL', 'Ketoprofen_Gel 2.5%'): 25,\n",
       " ('NE24 1DX', 'Lisinopril_Tab 5mg'): 83,\n",
       " ('ST3 6AB', 'Citalopram Hydrob_Tab 20mg'): 397,\n",
       " ('GL50 4DP', 'Half Securon SR_Tab 120mg'): 4,\n",
       " ('TS3 6AL', 'Azithromycin_Tab 500mg'): 4,\n",
       " ('M30 0NU', 'Paracet_Tab 500mg'): 523,\n",
       " ('NE37 2PU', 'Chlorphenamine Mal_Tab 4mg'): 26,\n",
       " ('SR5 2LT', 'Eumovate_Oint 0.05%'): 5,\n",
       " ('LS9 9EF', 'Zomorph_Cap 10mg'): 119,\n",
       " ('SM6 0HY', 'Azopt_Eye Dps 10mg/ml'): 17,\n",
       " ('WF13 1HN', 'Bisoprolol Fumar_Tab 3.75mg'): 8,\n",
       " ('CW5 5NX', 'Metformin HCl_Tab 850mg'): 7,\n",
       " ('SK6 1ND', 'Spironol_Tab 50mg'): 22,\n",
       " ('FY7 8GU', 'Formoterol Fumar_Pdr For Inh 6mcg (60 D)'): 4,\n",
       " ('SS8 0JA', 'Ropinirole HCl_Tab 1mg'): 6,\n",
       " ('PL7 1AD', 'Dermol_Crm'): 37,\n",
       " ('GL50 4DP', 'Antaz Sulf/Xylomet_Eye Dps 0.5%/0.05%'): 2,\n",
       " ('SR4 7XF', 'Sod Bicarb_Tab 600mg'): 13,\n",
       " ('BB8 0JZ', 'Orlistat_Cap 120mg'): 32,\n",
       " ('KT6 6EZ', 'Ibuprofen_Tab 200mg'): 5,\n",
       " ('B21 9RY', 'Flamazine_Crm 1%'): 4,\n",
       " ('SM6 0HY', 'Levothyrox Sod_Tab 100mcg'): 470,\n",
       " ('LA1 1PN', 'Fluticasone/Salmeterol_Inh 250/50mcg 60D'): 4,\n",
       " ('TS17 0EE', 'Vagifem_Vag Tab 10mcg'): 3,\n",
       " ('WN7 2PE', 'Movelat_Gel'): 2,\n",
       " ('WF13 1HN', 'Warfarin Sod_Tab 3mg'): 75,\n",
       " ('CW7 1AT', 'Aviva (Reagent)_Strips'): 23,\n",
       " ('BL9 0NJ', 'Fluticasone/Azelastine_Spy50/137mcg 120D'): 13,\n",
       " ('B23 6DJ', 'Codeine Phos_Tab 30mg'): 55,\n",
       " ('CB9 8HF', 'Atorvastatin_Tab 80mg'): 158,\n",
       " ('LE5 3GH', 'Enalapril Mal_Tab 5mg'): 13,\n",
       " ('OL9 7AY', 'Apixaban_Tab 5mg'): 29,\n",
       " ('TS24 7PW', 'Fenofibrate_Tab 160mg (Micronised)'): 4,\n",
       " ('B21 9RY', 'Aripiprazole_Tab 5mg'): 5,\n",
       " ('DA1 2HA', 'Brinzolamide_Eye Dps 10mg/ml'): 5,\n",
       " ('CT11 8AD', 'Phenytoin_Sod Cap 100mg'): 15,\n",
       " ('BH18 8EE', 'Olanzapine_Tab 2.5mg'): 13,\n",
       " ('OL1 1NL', 'Clotrimazole_Pess 500mg/Crm 2%'): 50,\n",
       " ('CV1 4FS', 'Fybogel Mebeverine_Eff Gran Sach S/F'): 8,\n",
       " ('B70 7AW', 'Nicorandil_Tab 20mg'): 15,\n",
       " ('ST8 6AG', 'Piriton_Tab 4mg'): 4,\n",
       " ('FY4 1TJ', 'Nexium_Tab 20mg'): 4,\n",
       " ('HA0 4UZ', 'Coloplast_Simpla Profile Leg Bag 500ml 2'): 2,\n",
       " ('WN7 1HR', 'Co-Codamol_Tab 8mg/500mg'): 112,\n",
       " ('WA7 1AB', 'Coloplast_Conveen Optima Urisheath (Non'): 6,\n",
       " ('S74 9AF', 'Diprosalic_Oint 0.05%/3%'): 2,\n",
       " ('DN22 7XF', 'KerraPro 10 x 10 x 0.3cm Sheet Low Frict'): 8,\n",
       " ('OL9 7AY', 'Canesten HC_Crm'): 2,\n",
       " ('WN3 5HL', 'Dermovate_Oint 0.05%'): 4,\n",
       " ('BB8 0JZ', 'Lamotrigine_Tab 200mg'): 4,\n",
       " ('B11 4BW', 'Paracet_Tab 500mg'): 451,\n",
       " ('SS0 7AF', 'Relvar Ellipta_Inha 92mcg/22mcg (30 D)'): 21,\n",
       " ('KT6 6EZ', 'Adapalene_Gel 0.1%'): 3,\n",
       " ('KT14 6DH', 'Matrifen_Patch 50mcg/hr'): 4,\n",
       " ('CW7 1AT', 'Co-Cyprindiol_Tab 2mg/35mcg'): 5,\n",
       " ('BL3 5HP', 'Hydrocort_Crm 1%'): 43,\n",
       " ('LE10 1DS', 'Coloplast SpeediCath Male Size 10-14 (30'): 5,\n",
       " ('L36 7XY', 'Microgynon 30_Tab'): 18,\n",
       " ('S74 9AF', 'Diclofenac Sod_Gel 2.32%'): 6,\n",
       " ('KT14 6DH', 'Nedocromil Sod_Inha 2mg (112 D) CFF'): 2,\n",
       " ('CB9 8HF', 'Ramipril_Tab 10mg'): 16,\n",
       " ('YO16 4LZ', 'Lamotrigine_Tab 200mg'): 3,\n",
       " ('FY5 2TZ', 'Betameth Val/Clioquinol_Crm 0.1%/3%'): 2,\n",
       " ('DA11 8BZ', 'Fybogel_Gran Sach 3.5g Plain G/F S/F'): 7,\n",
       " ('CW1 3AW', 'Etonogestrel_Implant 68mg'): 7,\n",
       " ('WN2 5NG', 'Propranolol HCl_Tab 40mg'): 55,\n",
       " ('M26 2SP', 'Loestrin 30_Tab'): 2,\n",
       " ('OL4 1YN', 'Ibuprofen_Tab 200mg'): 7,\n",
       " ('DN22 7XF', 'Isosorbide Mononit_Tab 10mg'): 29,\n",
       " ('B23 6DJ', 'Fluticasone Prop_Inha 250mcg (120 D) CFF'): 2,\n",
       " ('TS17 0EE', 'Selenium Sulfide_Shampoo 2.5%'): 4,\n",
       " ('BL1 8TU', 'Asacol_MR Tab E/C 400mg'): 5,\n",
       " ('NE37 2PU', 'Bendroflumethiazide_Tab 2.5mg'): 489,\n",
       " ('NN16 8DN', 'CliniSupplies_ProSys Night Bag Non-Ster'): 5,\n",
       " ('TR1 2JA', 'Furosemide_Tab 20mg'): 172,\n",
       " ('GL50 4DP', 'Clenil Modulite_Inha 100mcg (200D)'): 230,\n",
       " ('L31 0DJ', 'Bezafibrate_Tab 400mg M/R'): 12,\n",
       " ('SK6 1ND', 'Co-Codamol_Tab 15mg/500mg'): 6,\n",
       " ('FY2 0JG', 'Quinine Sulf_Tab 200mg'): 40,\n",
       " ('NE24 1DX', 'Mirtazapine_Orodisper Tab 15mg'): 13,\n",
       " ('CW5 5NX', 'Stanek_Tab 100mg/25mg/200mg'): 2,\n",
       " ('WS3 3JP', 'ConvaTec_ConvaTec Niltac Sting Free Medi'): 3,\n",
       " ('BL9 0SN', 'Nebivolol_Tab 5mg'): 7,\n",
       " ('SE1 6JP', 'BD Microfine+ Needles Pen Inj Screw On 8'): 18,\n",
       " ('BL9 0SN', 'Varenicline Tart_Tab 1mg'): 8,\n",
       " ('DN34 4GB', 'Colecal_Cap 1 000u'): 3,\n",
       " ('SS9 5UU', 'Warfarin Sod_Tab 500mcg'): 2,\n",
       " ('BL3 5HP', 'Dermovate_Crm 0.05%'): 5,\n",
       " ('BB8 0JZ', 'Fluvastatin Sod_Cap 20mg'): 2,\n",
       " ('CV1 4FS', 'Betnovate_Crm 0.1%'): 9,\n",
       " ('NE24 1DX', 'Propranolol HCl_Tab 10mg'): 102,\n",
       " ('SM3 8EP', 'Amiodarone HCl_Tab 200mg'): 22,\n",
       " ('WA7 1AB', 'Sustanon_Inj 250mg/1ml Amp'): 4,\n",
       " ('BH18 8EE', 'Escitalopram_Tab 10mg'): 6,\n",
       " ('BH18 8EE', 'Mirapexin_Tab 1.05mg M/R'): 2,\n",
       " ('WA9 1LN', 'Amitriptyline HCl_Tab 25mg'): 114,\n",
       " ('GU9 9QS', 'Pulmicort_Turbohaler 100mcg (200 D)'): 2,\n",
       " ('BB11 2DL', 'Loperamide HCl_Cap 2mg'): 63,\n",
       " ('NE37 2PU', 'Oilatum_Scalp Tt Shampoo'): 4,\n",
       " ('NG7 5HY', 'Dorzolamide_Eye Dps 2%'): 2,\n",
       " ('RM3 9SU', 'Atorvastatin_Tab 10mg'): 168,\n",
       " ('CV1 4FS', 'Mepore 11cm x 15cm Pfa + Adh Border Dres'): 2,\n",
       " ('NW10 8RY', 'Nefopam HCl_Tab 30mg'): 2,\n",
       " ('TS23 2DG', 'Olanzapine_Tab 15mg'): 3,\n",
       " ('BB2 1AX', 'Durogesic DTrans_T/Derm Patch 50mcg'): 2,\n",
       " ('LE10 1DS', 'Mirtazapine_Tab 30mg'): 70,\n",
       " ('SS13 3HQ', 'Nitrofurantoin_Cap 100mg M/R'): 16,\n",
       " ('SS8 0JA', 'Risperidone_Tab 2mg'): 14,\n",
       " ('BB7 2JG', 'Bricanyl_Turbohaler 500mcg (100 D)'): 6,\n",
       " ('M26 2SP', 'Beconase_Aq Nsl Spy 50mcg (200 D) 22g'): 42,\n",
       " ('NE10 9QG', 'Fluticasone/Salmeterol_Inh 500/50mcg 60D'): 22,\n",
       " ('B70 7AW', 'Exemestane_Tab 25mg'): 6,\n",
       " ('GL50 4DP', 'Lorazepam_Tab 1mg'): 42,\n",
       " ('TW3 3LN', 'Aptamil_Pepti 1 Pdr'): 3,\n",
       " ('BB8 0JZ', 'Carbamazepine_Tab 400mg'): 3,\n",
       " ('RM3 9SU', 'Ciprofloxacin_Tab 250mg'): 2,\n",
       " ('GU9 9QS', 'Hypromellose_Eye Dps 0.3%'): 30,\n",
       " ('SK11 6JL', 'FreeStyle (Reagent)_Strips'): 11,\n",
       " ('OL1 1NL', 'Losartan Pot/Hydchloroth_Tab 100mg/25mg'): 7,\n",
       " ('DN22 7XF', 'Trimethoprim_Oral Susp 50mg/5ml S/F'): 9,\n",
       " ('HA0 4UZ', 'Sharpsafe 1L'): 49,\n",
       " ('WN3 5HL', 'Dorzolamide_Eye Dps 2%'): 8,\n",
       " ('BH23 3AF', 'Nitrazepam_Tab 5mg'): 22,\n",
       " ('NN16 8DN', 'Ganfort_Eye Dps 300mcg/5mg'): 31,\n",
       " ('OL1 1NL', 'Sotalol HCl_Tab 80mg'): 3,\n",
       " ('GL50 4DP', 'Bard_Uriplan Overnight Drain Bag 2L'): 7,\n",
       " ('SS13 3HQ', 'Ins NovoMix 30_Penfill 100u/ml 3ml Cart'): 5,\n",
       " ('ST3 6AB', 'Risperidone_Tab 1mg'): 17,\n",
       " ('L36 7XY', 'Glyceryl Trinit_Sub P/Spy 400mcg (180D)'): 16,\n",
       " ('NE37 2PU', 'Fybogel_Gran Sach 3.5g Orange G/F S/F'): 5,\n",
       " ('CW7 1AT', 'Gatalin XL_Cap 24mg'): 2,\n",
       " ('TS3 6AL', 'Eumovate_Crm 0.05%'): 7,\n",
       " ('M26 2SP', 'Aciclovir_Tab Disper 200mg'): 3,\n",
       " ('TS10 4NW', 'Combodart_Cap 0.5mg/0.4mg'): 2,\n",
       " ('WA10 2DJ', 'Coloplast SpeediCath Compact Male OneSiz'): 10,\n",
       " ('SE15 5LJ', 'Seretide 125_Evohaler 125mcg/25mcg(120D)'): 5,\n",
       " ('WN3 5HL', 'Mebeverine HCl_Cap 200mg M/R'): 8,\n",
       " ('FY2 0JG', 'Colecal + Calc Phos_Pdr Sach 800u/3.1g'): 17,\n",
       " ('BH23 3AF', 'Travoprost/Timolol_Eye Dps 40mcg/5mg'): 15,\n",
       " ('HG1 5AR', 'Mometasone Fur_Aq N/Spy 50mcg (140 D)'): 53,\n",
       " ('CW1 3AW', 'Ins Levemir_Penfill 100u/ml 3ml Cart'): 19,\n",
       " ('LE5 3GH', 'Citalopram Hydrob_Tab 20mg'): 129,\n",
       " ('NE10 9QG', 'Sod Fluoride_Dental Paste 1.1% S/F'): 2,\n",
       " ('CW7 1AT', 'Coloplast_Assura Insp Midi Drnbl Bag H/A'): 3,\n",
       " ('FY4 1TJ', 'Rivastigmine_Skin Patch 9.5mg/24hrs'): 4,\n",
       " ('L36 7XY', 'Venlafaxine_Tab 75mg'): 39,\n",
       " ('GL1 3PX', 'Meloxicam_Tab 7.5mg'): 5,\n",
       " ('BB4 5SL', 'Balneum Plus_Bath Oil'): 4,\n",
       " ('FY2 0JG', 'Digoxin_Tab 62.5mcg'): 66,\n",
       " ('OL4 1YN', 'Carbimazole_Tab 5mg'): 24,\n",
       " ('S74 9AF', 'Ondansetron HCl_Tab 4mg'): 9,\n",
       " ('B21 9RY', 'Dapagliflozin_Tab 10mg'): 29,\n",
       " ('CB9 8HF', 'Ranitidine HCl_Oral Soln 75mg/5ml S/F'): 13,\n",
       " ('TS17 0EE', 'Gabapentin_Tab 800mg'): 6,\n",
       " ('SS13 3HQ', 'Piriton_Tab 4mg'): 8,\n",
       " ('SS13 3HQ', 'Amiodarone HCl_Tab 200mg'): 7,\n",
       " ('ST8 6AG', 'Zopiclone_Tab 3.75mg'): 59,\n",
       " ('SM3 8EP', 'Cetraben Crm 500g'): 13,\n",
       " ('WD18 0JP', 'Alfacalcidol_Cap 500ng'): 2,\n",
       " ('S74 9AF', 'DuoTrav_Eye Dps 40mcg/ml / 5mg/ml'): 3,\n",
       " ('SM6 0HY', 'Dapagliflozin_Tab 5mg'): 2,\n",
       " ('TN34 1BA', 'Tear-Lac Hypromellose Eye Dps 0.3% P/F'): 2,\n",
       " ('HU7 4DW', 'Permethrin_Crm 5%'): 12,\n",
       " ('TW8 8DS', 'Risperidone_Tab 4mg'): 5,\n",
       " ('NE10 9QG', 'Apixaban_Tab 2.5mg'): 32,\n",
       " ('DN22 7XF', 'Flexitol Urea Heel Balm'): 14,\n",
       " ('CT11 8AD', 'Clonazepam_Tab 500mcg'): 134,\n",
       " ('WA9 1LN', 'Clonazepam_Tab 500mcg'): 19,\n",
       " ('LE18 2EW', 'Amiloride HCl_Tab 5mg'): 6,\n",
       " ('HU7 4DW', 'Gaviscon Advance_Liq (Aniseed) (Reckitt)'): 57,\n",
       " ('WD18 0JP', 'Utovlan_Tab 5mg'): 8,\n",
       " ('NE10 9QG', 'Metronidazole_Crm 0.75%'): 2,\n",
       " ('FY4 1TJ', 'Pro-Cal_Shot Liq (Banana)'): 3,\n",
       " ('KT6 6EZ', 'Ibuprofen_Oral Susp 100mg/5ml'): 2,\n",
       " ('L36 7XY', 'Zonisamide_Cap 100mg'): 4,\n",
       " ('GL50 4DP', 'Alzain_Cap 225mg'): 8,\n",
       " ('HU7 4DW', 'Scheriproct_Oint'): 6,\n",
       " ('CV1 4FS', 'Venlafaxine_Tab 75mg'): 60,\n",
       " ('FY4 1TJ', 'Micronor_Tab 350mcg'): 11,\n",
       " ('CW1 3AW', 'Sertraline HCl_Tab 100mg'): 431,\n",
       " ('CV1 4FS', 'Candesartan Cilexetil_Tab 4mg'): 18,\n",
       " ('BH23 3AF', 'Erythromycin_Tab E/C 250mg'): 12,\n",
       " ('WS3 3JP', 'Beclomet/Formoterol_Inh 200/6 (120D) Dry'): 2,\n",
       " ('TR1 2JA', 'Verapamil HCl_Tab 120mg M/R'): 4,\n",
       " ('DN34 4GB', 'Theophylline_Tab 200mg M/R'): 4,\n",
       " ('B70 7AW', 'Flutiform_Inha 250/10mcg (120 D)'): 15,\n",
       " ('S74 9AF', 'Fludrocort Acet_Tab 100mcg'): 46,\n",
       " ('TS3 6AL', 'Enoxaparin_Inj 100mg/ml 0.8ml Pfs'): 2,\n",
       " ('WA10 2DJ', 'Asacol_MR Tab E/C 400mg'): 8,\n",
       " ('GL50 4DP', 'Eklira_Inh 322mcg (60D) (Genuair)'): 36,\n",
       " ('BL9 0SN', 'Capsaicin_Crm 0.075%'): 6,\n",
       " ('BB3 1PY', 'Sandoz Sod Chlor 0.9% Nsl Dps'): 9,\n",
       " ('BB4 5SL', 'Ganfort_Eye Dps 300mcg/5mg 0.4ml Ud'): 3,\n",
       " ('SE1 6JP', 'Trimovate_Crm'): 2,\n",
       " ('BB7 2JG', 'Menthol In Aq_Crm 2%'): 3,\n",
       " ('N9 7HD', 'Arjun Olive Oil Ear Dps Ear Wax Softenin'): 2,\n",
       " ('CW5 5NX', 'Spiolto Respimat_Inha2.5/2.5mcg(60D)+Dev'): 3,\n",
       " ('OL9 7AY', 'Indapamide_Tab 1.5mg M/R'): 12,\n",
       " ('TR1 2JA', 'Terbinafine HCl_Crm 1%'): 4,\n",
       " ('SK11 6JL', 'Evorel 75_Patch'): 5,\n",
       " ('S74 9AF', 'Gabapentin_Cap 300mg'): 270,\n",
       " ('TS17 0EE', 'Allevyn Ag Gentle Border 10cmx10cm Wound'): 3,\n",
       " ('NE38 7NQ', 'Sitagliptin_Tab 50mg'): 12,\n",
       " ('ST3 6AB', 'Olmesartan Medoxomil_Tab 10mg'): 20,\n",
       " ('OL11 1DN', 'Nebusal Sod Chlor 7% Inh Soln 4ml'): 2,\n",
       " ('M11 4EJ', 'Amoxicillin_Cap 250mg'): 13,\n",
       " ('BD3 8QH', 'Erythromycin/Zn Acet_Lot 40mg/Ml/12mg/ml'): 2,\n",
       " ('BD3 8QH', 'Chlorpromazine HCl_Tab 25mg'): 10,\n",
       " ('CW7 1AT', 'Lisinopril_Tab 20mg'): 266,\n",
       " ('FY5 2TZ', 'Steripod Sod Chlor Top Irrig 0.9% 20ml'): 2,\n",
       " ('SE1 6JP', 'Inadine 9.5cm x 9.5 cm Povidone Iodine F'): 3,\n",
       " ('SK11 6JL', 'Influenza_Vac Inact 0.5ml Pfs'): 80,\n",
       " ('L7 6HD', 'Versatis_Medic Plastr 5%'): 3,\n",
       " ('SR4 7XF', 'Phenytoin_Sod Cap 100mg'): 32,\n",
       " ('NE10 9QG', 'Ins NovoRapid_Inj 100u/ml 10ml Vl'): 5,\n",
       " ('YO16 4LZ', 'Fybogel_Gran Sach 3.5g Orange G/F S/F'): 22,\n",
       " ('SE15 5LJ', 'Omeprazole_Tab E/C 20mg'): 21,\n",
       " ('TW3 3LN', 'Dexameth_Eye Dps 0.1%'): 8,\n",
       " ('NN16 8DN', 'DesmoMelt_Oral Lyoph 120mcg'): 2,\n",
       " ('OL4 1YN', 'Vit B Co_Tab'): 2,\n",
       " ('WS3 3JP', 'Oilatum_Shower Gel Fragrance Free'): 3,\n",
       " ('ST1 4PB', 'Nebivolol_Tab 5mg'): 2,\n",
       " ('M11 4EJ', 'Salivix Pastil (App)'): 2,\n",
       " ('DN22 7XF', 'Metoclopramide HCl_Tab 10mg'): 46,\n",
       " ('TS1 2NX', 'Hypromellose_Eye Dps 0.5%'): 26,\n",
       " ('BB9 7SR', 'Hydrocort_Crm 1%'): 91,\n",
       " ('GL50 4DP', 'Sharpsafe 1L'): 68,\n",
       " ('TR1 2JA', 'Oilatum_Gel'): 6,\n",
       " ('S63 9EH', 'Trimethoprim_Oral Susp 50mg/5ml S/F'): 5,\n",
       " ('BD3 8QH', 'Isosorbide Mononit_Cap 60mg M/R'): 14,\n",
       " ('WD18 0JP', 'Salbutamol_Inh Soln 2.5mg/2.5ml Ud'): 9,\n",
       " ('SE1 6JP', 'Steripod Sod Chlor Top Irrig 0.9% 20ml'): 2,\n",
       " ('GL1 3PX', 'Thiamine HCl_Tab 50mg'): 14,\n",
       " ('CT11 8AD', 'Meloxicam_Tab 15mg'): 10,\n",
       " ('WA9 1LN', 'Lido_Medic Plastr 5%'): 30,\n",
       " ('WS10 8SY', 'Diclofenac Sod_Tab E/C 50mg'): 8,\n",
       " ('BB9 7SR', 'Felodipine_Tab 10mg M/R'): 6,\n",
       " ('CW1 3AW', 'Aerochamber Plus'): 42,\n",
       " ('DA11 8BZ', 'Mirtazapine_Tab 15mg'): 37,\n",
       " ('SE15 5LJ', 'Tadalafil_Tab 20mg'): 19,\n",
       " ('W10 6DZ', 'Lucette_Tab 0.03mg/3mg'): 8,\n",
       " ('BH18 8EE', 'Carvedilol_Tab 12.5mg'): 4,\n",
       " ('CH1 4DS', 'Glimepiride_Tab 4mg'): 8,\n",
       " ('WA10 2DJ', 'Nicotine_Transdermal Patch 21mg/24hrs'): 3,\n",
       " ('RM3 9SU', 'Tramadol HCl_Cap 50mg'): 193,\n",
       " ('WA9 1LN', 'Omeprazole_Tab E/C 20mg'): 3,\n",
       " ('CH1 4DS', 'Azelastine HCl_Aq Eye Dps 0.05%'): 2,\n",
       " ('LS9 9EF', 'Ins Lantus_100u/ml 3ml Cart'): 8,\n",
       " ('BL9 0NJ', 'Ramipril_Cap 2.5mg'): 183,\n",
       " ('NE38 7NQ', 'Procyclidine HCl_Tab 5mg'): 44,\n",
       " ('TS23 2DG', 'Duloxetine HCl_Cap G/R 30mg'): 28,\n",
       " ('DA1 2HA', 'Verapamil HCl_Tab 120mg M/R'): 9,\n",
       " ('BL3 5HP', 'Prednisolone_Tab E/C 5mg'): 23,\n",
       " ('NE24 1DX', 'Chlorhex Glucon_Soln 4%'): 8,\n",
       " ('SS8 0JA', 'Betahistine HCl_Tab 16mg'): 70,\n",
       " ('DN34 4GB', 'Great Bear_GB Fix It strap Adult'): 2,\n",
       " ('GL50 4DP', 'Tramadol HCl_Tab 50mg M/R'): 2,\n",
       " ('SS13 3HQ', 'Respond_OstoMart Osto-EZ-Vent'): 3,\n",
       " ('BB9 7SR', 'Aspen_Sorbaderm Barrier Crm 92g'): 20,\n",
       " ('OL11 1DN', 'Havrix Monodose_Vac 1440u/ml 1ml Pfs'): 33,\n",
       " ('BH23 3AF', 'Lansoprazole_Orodisper Tab 30mg'): 19,\n",
       " ('ST3 6AB', 'Simvastatin_Tab 80mg'): 6,\n",
       " ('BB4 5SL', 'Asacol_MR Tab E/C 400mg'): 3,\n",
       " ('SR4 7XF', 'Aerochamber Plus'): 14,\n",
       " ('ST3 6AB', 'Thick & Easy_Food Thickener'): 8,\n",
       " ('NE37 2PU', 'Tacrolimus_Oint 0.1%'): 3,\n",
       " ('PL7 1AD', 'Topiramate_Tab 100mg'): 15,\n",
       " ('TS23 2DG', 'Eplerenone_Tab 25mg'): 17,\n",
       " ('TS24 7PW', 'Aripiprazole_Tab 15mg'): 16,\n",
       " ('BL1 8TU', 'Rotigotine_Transdermal Patch 8mg/24hrs'): 4,\n",
       " ('LE18 2EW', 'Verapamil HCl_Tab 120mg M/R'): 8,\n",
       " ('SK11 6JL', 'Nitrofurantoin_Tab 100mg'): 10,\n",
       " ('BL9 0NJ', 'Propranolol HCl_Cap 160mg M/R'): 15,\n",
       " ('OL4 1YN', 'Nortriptyline_Tab 10mg'): 16,\n",
       " ('NG7 5HY', 'Erythromycin_Ethylsuc Susp 250mg/5ml'): 5,\n",
       " ('BB4 5SL', 'Desogestrel_Tab 75mcg'): 56,\n",
       " ('L36 7XY', 'Beconase_Aq Nsl Spy 50mcg (200 D) 22g'): 16,\n",
       " ('SK11 6JL', 'Losec MUPS_Tab Disper 10mg (E/C Pellets)'): 5,\n",
       " ('L31 0DJ', 'Mometasone Fur_Aq N/Spy 50mcg (140 D)'): 95,\n",
       " ('NN16 8DN', 'Maxitrol_Eye Dps'): 5,\n",
       " ('BB2 1AX', 'Venlafaxine_Tab 37.5mg'): 8,\n",
       " ('SK6 1ND', 'Lercanidipine HCl_Tab 10mg'): 57,\n",
       " ('CB9 8HF', 'Lyrica_Cap 50mg'): 19,\n",
       " ('HG1 5AR', 'Paracet_Oral Susp 250mg/5ml S/F'): 28,\n",
       " ('NE38 7NQ', 'Cilest_Tab'): 6,\n",
       " ('TS3 6AL', 'Tears Naturale_Eye Dps'): 4,\n",
       " ('LE18 2EW', 'Losartan Pot/Hydchloroth_Tab 100mg/25mg'): 20,\n",
       " ('LE18 2EW', 'Metformin HCl_Tab 850mg'): 78,\n",
       " ('BL3 5HP', 'Montelukast_Tab 10mg'): 20,\n",
       " ('NE24 1DX', 'Madopar_Cap 50mg/12.5mg'): 3,\n",
       " ('FY5 2TZ', 'Hollister_Moderma Flex Closed Pouch + Fl'): 2,\n",
       " ('CW1 3AW', 'Phenytoin_Sod Cap 100mg'): 18,\n",
       " ('OL1 1NL', 'Omeprazole_Cap E/C 10mg'): 13,\n",
       " ('WN7 1HR', 'PaediaSure Plus Fibre_Liq (3 Flav)'): 6,\n",
       " ('NE37 2PU', 'Latanoprost/Timolol_Eye Dps 50mcg/5mg/ml'): 8,\n",
       " ('HU7 4DW', 'Simvastatin_Tab 20mg'): 760,\n",
       " ('FY2 0JG', 'Duloxetine HCl_Cap G/R 40mg'): 10,\n",
       " ('BB8 0JZ', 'Fybogel_Gran Sach 3.5g Orange G/F S/F'): 18,\n",
       " ('CB9 8HF', 'Mefenamic Acid_Tab 500mg'): 17,\n",
       " ('SS13 3HQ', 'Phenoxymethylpenicillin_Soln 125mg/5ml'): 6,\n",
       " ('LE18 2EW', 'Utovlan_Tab 5mg'): 12,\n",
       " ('HG1 5AR', 'Longtec_Tab 20mg M/R'): 8,\n",
       " ('FY2 0JG', 'Sotalol HCl_Tab 40mg'): 9,\n",
       " ('M11 4EJ', 'Levothyrox Sod_Tab 100mcg'): 99,\n",
       " ('M26 2SP', 'Protopic_Oint 0.1%'): 8,\n",
       " ('KT6 6EZ', 'Tranexamic Acid_Tab 500mg'): 20,\n",
       " ('LS9 9EF', 'Amitriptyline HCl_Tab 25mg'): 151,\n",
       " ('BL3 5HP', 'Olanzapine_Tab 10mg'): 29,\n",
       " ('BB11 2DL', 'Rivaroxaban_Tab 15mg'): 3,\n",
       " ('FY5 2TZ', 'Carvedilol_Tab 6.25mg'): 10,\n",
       " ('BD3 8QH', 'Mycophenolate Mofetil_Tab 500mg'): 5,\n",
       " ('NE24 1DX', 'Alfacalcidol_Cap 250ng'): 21,\n",
       " ('L31 0DJ', 'Aviticol_Cap 20 000u'): 86,\n",
       " ('LE10 1DS', 'Cleen_Enem Phos 133ml'): 3,\n",
       " ('OL9 7AY', 'Colchicine_Tab 500mcg'): 3,\n",
       " ('ST1 4PB', 'Asacol_MR Tab E/C 800mg'): 6,\n",
       " ('L5 0QW', 'Zopiclone_Tab 7.5mg'): 204,\n",
       " ('M11 4EJ', 'Oestro Conj_Tab 1.25mg'): 2,\n",
       " ('BB7 2JG', 'Milex Ring Pess Slc Without Support/Fold'): 2,\n",
       " ('OL1 1NL', 'Phenergan_Tab 25mg'): 5,\n",
       " ('OL1 1NL', 'Proctosedyl_Oint'): 7,\n",
       " ('TS10 4NW', 'Entacapone_Tab 200mg'): 2,\n",
       " ('WA7 1AB', 'Chlorphenamine Mal_Oral Soln 2mg/5ml'): 13,\n",
       " ('ST8 6AG', 'Preservision_Lutein Cap'): 17,\n",
       " ('CH1 4DS', 'Pro D3_Cap 10 000u'): 3,\n",
       " ('DN22 7XF', 'Isotretinoin_Gel 0.05%'): 3,\n",
       " ('S65 1DA', 'Ganfort_Eye Dps 300mcg/5mg'): 10,\n",
       " ('GL50 4DP', 'Propylthiouracil_Tab 50mg'): 4,\n",
       " ('B18 7AL', 'Tiotropium_Pdr For Inh Cap 18mcg + Dev'): 7,\n",
       " ('GL1 3PX', 'Docusate Sod_Oral Soln 12.5mg/5ml S/F'): 2,\n",
       " ('TS1 2NX', 'Aciclovir_Tab 800mg'): 9,\n",
       " ('FY2 0JG', 'Solifenacin/Tamsulosin_Tab 6mg/400mcgM/R'): 4,\n",
       " ('BB7 2JG', 'Dabigatran Etexilate_Cap 110mg'): 22,\n",
       " ('TR1 2JA', 'Topiramate_Tab 100mg'): 7,\n",
       " ('BH23 3AF', 'Lamotrigine_Tab 50mg'): 12,\n",
       " ('FY5 2TZ', 'Ins NovoRapid_Penfill 100u/ml 3ml Cart'): 39,\n",
       " ('TS24 7PW', 'Testosterone_Gel 2% (10mg per actuation)'): 4,\n",
       " ('NE38 7NQ', 'Tramadol HCl/Paracet_Tab 37.5mg/325mg'): 2,\n",
       " ('BB11 2DL', 'Baclofen_Oral Soln 5mg/5ml S/F'): 7,\n",
       " ('CT11 8AD', 'Norgeston_Tab 30mcg'): 3,\n",
       " ('TS3 6AL', 'Alphosyl_Shampoo 2 In 1'): 8,\n",
       " ('L36 7XY', 'Testosterone_Gel 50mg/5g Ud Sach'): 6,\n",
       " ('KT14 6DH', 'Raloxifene HCl_Tab 60mg'): 3,\n",
       " ('OL9 7AY', 'Sod Chlor_Inh Soln 0.9% 2.5ml Ud Amp'): 4,\n",
       " ('PL7 1AD', 'Alverine Cit_Cap 60mg'): 11,\n",
       " ('DN34 4GB', 'Dorzolamide_Eye Dps 2%'): 5,\n",
       " ('B70 7AW', 'Zeroderm Oint'): 12,\n",
       " ('S65 1DA', 'Ranolazine_Tab 500mg M/R'): 5,\n",
       " ('SR4 7XF', 'Calcipotriol_Scalp Soln 50mcg/ml'): 2,\n",
       " ('GU9 9QS', 'Pramipexole_Tab 88mcg'): 6,\n",
       " ('LE18 2EW', 'Atenolol_Tab 100mg'): 32,\n",
       " ('HU7 4DW', 'Aspirin Disper_Tab 75mg'): 798,\n",
       " ('HG1 5AR', 'Olanzapine_Tab 5mg'): 40,\n",
       " ('L36 7XY', 'Asacol_MR Tab E/C 800mg'): 5,\n",
       " ('YO16 4LZ', 'Venlablue XL_Cap 75mg'): 10,\n",
       " ('B70 7AW', 'Ibuprofen_Oral Susp 100mg/5ml'): 2,\n",
       " ('BL9 0NJ', 'Pentasa_Tab 1g M/R'): 3,\n",
       " ('NE37 2PU', 'Nortriptyline_Tab 25mg'): 6,\n",
       " ('BL9 0NJ', 'Amoxicillin_Cap 500mg'): 616,\n",
       " ('S74 9AF', 'Naproxen_Tab E/C 500mg'): 4,\n",
       " ('YO16 4LZ', 'Azithromycin_Tab 250mg'): 16,\n",
       " ('DN22 7XF', 'Donepezil HCl_Tab 10mg'): 52,\n",
       " ('TS23 2DG', 'Levothyrox Sod_Tab 100mcg'): 373,\n",
       " ('LS9 9EF', 'Ondansetron HCl_Tab 4mg'): 44,\n",
       " ('NE10 9QG', 'Ventolin_Evohaler 100mcg (200 D)'): 33,\n",
       " ('TN34 1BA', 'Azarga_Eye Dps 10mg/ml / 5mg/ml'): 4,\n",
       " ('DA1 2HA', 'Nystatin_Oral Susp 100 000u/ml'): 13,\n",
       " ('BB11 2DL', 'Bisoprolol Fumar_Tab 5mg'): 173,\n",
       " ('CT11 8AD', 'Atrovent_Inha 20mcg (200 D) CFF'): 3,\n",
       " ('HG1 5AR', 'Nitrazepam_Tab 5mg'): 32,\n",
       " ('OL11 1DN', 'Mirtazapine_Tab 30mg'): 83,\n",
       " ('DN34 4GB', 'Rivaroxaban_Tab 20mg'): 107,\n",
       " ('NE37 2PU', 'Terbut Sulf_B/A Inha 500mcg (100 D)'): 13,\n",
       " ('S74 9AF', 'Bisoprolol Fumar_Tab 3.75mg'): 31,\n",
       " ('BB3 1PY', 'ActivHeal Alginate 5cm x 5cm Wound Dress'): 3,\n",
       " ('OL11 1DN', 'Diethylamine Sal_Crm 10% BP'): 32,\n",
       " ('NG7 5HY', 'Candesartan Cilexetil_Tab 32mg'): 11,\n",
       " ('M30 0NU', 'Venlablue XL_Cap 150mg'): 22,\n",
       " ('WN2 5NG', 'Zopiclone_Tab 7.5mg'): 39,\n",
       " ('TW13 4GU', 'Trimovate_Crm'): 5,\n",
       " ('PL7 1AD', 'Bisoprolol Fumar_Tab 7.5mg'): 58,\n",
       " ('GU9 9QS', 'Piroxicam_Gel 0.5%'): 2,\n",
       " ('FY5 2TZ', 'Ensure Plus Juce_Liq Feed (6 Flav)'): 4,\n",
       " ('ME8 8AA', 'Pravastatin Sod_Tab 10mg'): 5,\n",
       " ('TS3 6AL', 'Glyceryl Trinit_Sub A/Spy 400mcg (180D)'): 27,\n",
       " ...}"
      ]
     },
     "execution_count": 85,
     "metadata": {},
     "output_type": "execute_result"
    }
   ],
   "source": [
    "total_items_by_bnf_post"
   ]
  },
  {
   "cell_type": "code",
   "execution_count": 86,
   "metadata": {},
   "outputs": [
    {
     "data": {
      "text/plain": [
       "141196"
      ]
     },
     "execution_count": 86,
     "metadata": {},
     "output_type": "execute_result"
    }
   ],
   "source": [
    "len(total_items_by_bnf_post)"
   ]
  },
  {
   "cell_type": "code",
   "execution_count": 87,
   "metadata": {},
   "outputs": [],
   "source": [
    "assert len(total_items_by_bnf_post) == 141196"
   ]
  },
  {
   "cell_type": "code",
   "execution_count": 88,
   "metadata": {},
   "outputs": [],
   "source": [
    "total_items = []\n",
    "for (post_code, bnf_name), total in list(total_items_by_bnf_post.items()):\n",
    "    new_dict = {'post_code': post_code,\n",
    "                'bnf_name' : bnf_name,\n",
    "                'total' : total}\n",
    "    total_items.append(new_dict)"
   ]
  },
  {
   "cell_type": "code",
   "execution_count": 89,
   "metadata": {},
   "outputs": [
    {
     "data": {
      "text/plain": [
       "[{'post_code': 'B11 4BW', 'bnf_name': 'Sod Valpr_Tab 200mg M/R', 'total': 2},\n",
       " {'post_code': 'DN22 7XF',\n",
       "  'bnf_name': 'Xylomet HCl_Nsl Spy 0.1% 10ml',\n",
       "  'total': 10}]"
      ]
     },
     "execution_count": 89,
     "metadata": {},
     "output_type": "execute_result"
    }
   ],
   "source": [
    "total_items[:2]"
   ]
  },
  {
   "cell_type": "code",
   "execution_count": 90,
   "metadata": {},
   "outputs": [],
   "source": [
    "#groups = group_by_field(scripts, ('post_code',))\n"
   ]
  },
  {
   "cell_type": "code",
   "execution_count": 91,
   "metadata": {},
   "outputs": [],
   "source": [
    "total_items_by_post = group_by_field(total_items, ('post_code',))"
   ]
  },
  {
   "cell_type": "code",
   "execution_count": null,
   "metadata": {},
   "outputs": [],
   "source": [
    "total_items_by_post"
   ]
  },
  {
   "cell_type": "code",
   "execution_count": null,
   "metadata": {},
   "outputs": [],
   "source": [
    "len(total_items_by_post)"
   ]
  },
  {
   "cell_type": "code",
   "execution_count": null,
   "metadata": {},
   "outputs": [],
   "source": [
    "max_item_by_post = max(total_items_by_post)\n",
    "max_item_by_post"
   ]
  },
  {
   "cell_type": "code",
   "execution_count": null,
   "metadata": {},
   "outputs": [],
   "source": [
    "test_list = total_items_by_post[('YO16 4LZ',)]\n",
    "test_list"
   ]
  },
  {
   "cell_type": "code",
   "execution_count": null,
   "metadata": {},
   "outputs": [],
   "source": [
    "from operator import itemgetter"
   ]
  },
  {
   "cell_type": "code",
   "execution_count": null,
   "metadata": {},
   "outputs": [],
   "source": [
    "get_total = itemgetter('total')"
   ]
  },
  {
   "cell_type": "code",
   "execution_count": null,
   "metadata": {},
   "outputs": [],
   "source": [
    "get_total(test_list[1])"
   ]
  },
  {
   "cell_type": "code",
   "execution_count": null,
   "metadata": {},
   "outputs": [],
   "source": [
    "sorted(group, key=lambda x: get_total(x)('total'), reverse=True)[0]"
   ]
  },
  {
   "cell_type": "code",
   "execution_count": null,
   "metadata": {},
   "outputs": [],
   "source": [
    "max_item_by_post = []\n",
    "groups = list(total_items_by_post.values())\n",
    "for group in groups:\n",
    "    max_total = sorted(group, key=itemgetter('total'), reverse=True)[0]\n",
    "    max_item_by_post.append(max_total)"
   ]
  },
  {
   "cell_type": "code",
   "execution_count": null,
   "metadata": {},
   "outputs": [],
   "source": [
    "#max_item_by_post = [sorted(group, key=itemgetter('total'), reverse=True)[0]\n",
    " #                  for group in list(total_items_by_post.values())]"
   ]
  },
  {
   "cell_type": "code",
   "execution_count": null,
   "metadata": {},
   "outputs": [],
   "source": [
    "max_item_by_post[0]"
   ]
  },
  {
   "cell_type": "code",
   "execution_count": null,
   "metadata": {},
   "outputs": [],
   "source": [
    "items_by_post = []\n",
    "for name, group in list(group_by_field(joined, ('post_code',)).items()):\n",
    "    item_sum = sum(dict_['items'] for dict_ in group)\n",
    "    name = name[0]\n",
    "    my_tuple = (name,item_sum)\n",
    "    items_by_post.append(my_tuple)"
   ]
  },
  {
   "cell_type": "code",
   "execution_count": null,
   "metadata": {},
   "outputs": [],
   "source": [
    "items_by_post.sort()"
   ]
  },
  {
   "cell_type": "code",
   "execution_count": null,
   "metadata": {},
   "outputs": [],
   "source": [
    "dict(items_by_post)"
   ]
  },
  {
   "cell_type": "code",
   "execution_count": null,
   "metadata": {},
   "outputs": [],
   "source": [
    "items_by_region = []\n",
    "\n",
    "for item in max_item_by_post:\n",
    "    numerator = item['total']\n",
    "    denominator = dict(items_by_post)[item['post_code']]\n",
    "    proportion = numerator / denominator\n",
    "    result = (item['post_code'], item['bnf_name'], proportion)\n",
    "    items_by_region.append(result)"
   ]
  },
  {
   "cell_type": "code",
   "execution_count": null,
   "metadata": {},
   "outputs": [],
   "source": [
    "items_by_region[0]"
   ]
  },
  {
   "cell_type": "code",
   "execution_count": null,
   "metadata": {},
   "outputs": [],
   "source": [
    "items_by_region = sorted(items_by_region)[:100 ]"
   ]
  },
  {
   "cell_type": "code",
   "execution_count": null,
   "metadata": {},
   "outputs": [],
   "source": [
    "items_by_region[:1]"
   ]
  },
  {
   "cell_type": "code",
   "execution_count": null,
   "metadata": {},
   "outputs": [],
   "source": [
    "grader.score.pw__items_by_region(items_by_region)"
   ]
  },
  {
   "cell_type": "code",
   "execution_count": null,
   "metadata": {},
   "outputs": [],
   "source": []
  },
  {
   "cell_type": "code",
   "execution_count": null,
   "metadata": {},
   "outputs": [],
   "source": []
  },
  {
   "cell_type": "code",
   "execution_count": null,
   "metadata": {},
   "outputs": [],
   "source": []
  },
  {
   "cell_type": "code",
   "execution_count": null,
   "metadata": {},
   "outputs": [],
   "source": []
  },
  {
   "cell_type": "code",
   "execution_count": null,
   "metadata": {},
   "outputs": [],
   "source": []
  },
  {
   "cell_type": "code",
   "execution_count": null,
   "metadata": {},
   "outputs": [],
   "source": []
  },
  {
   "cell_type": "code",
   "execution_count": null,
   "metadata": {},
   "outputs": [],
   "source": [
    "total_items_by_bnf_post = {}\n",
    "for key, group in list(group_by_field(joined, ('post_code', 'bnf_name')).items()):\n",
    "    items_total = sum(d['items'] for d in group)\n",
    "    total_items_by_bnf_post[key] = items_total\n"
   ]
  },
  {
   "cell_type": "code",
   "execution_count": null,
   "metadata": {},
   "outputs": [],
   "source": [
    "total_items_by_bnf_post"
   ]
  },
  {
   "cell_type": "code",
   "execution_count": null,
   "metadata": {},
   "outputs": [],
   "source": [
    "len(total_items_by_bnf_post)"
   ]
  },
  {
   "cell_type": "code",
   "execution_count": null,
   "metadata": {},
   "outputs": [],
   "source": [
    "assert len(total_items_by_bnf_post) == 141196"
   ]
  },
  {
   "cell_type": "code",
   "execution_count": null,
   "metadata": {},
   "outputs": [],
   "source": []
  },
  {
   "cell_type": "markdown",
   "metadata": {},
   "source": [
    "Let's use `total_by_item_post` to find the maximum item total for each postal code. To do this, we will want to regroup `total_by_item_post` by `'post_code'` only, not by `('post_code', 'bnf_name')`. First let's turn `total_by_item_post` into a list of dictionaries (similar to `scripts` or `practices`) and then group it by `'post_code'`. You should have 118 groups in `total_by_item_post` after grouping it by `'post_code'`."
   ]
  },
  {
   "cell_type": "code",
   "execution_count": null,
   "metadata": {},
   "outputs": [],
   "source": [
    "total_items = []\n",
    "for (post_code, bnf_name), total in list(total_items_by_bnf_post.items()):\n",
    "    new_dict = {'post_code': post_code,\n",
    "                'bnf_name' : bnf_name,\n",
    "                'total' : total}\n",
    "    total_items.append(new_dict)\n"
   ]
  },
  {
   "cell_type": "code",
   "execution_count": null,
   "metadata": {},
   "outputs": [],
   "source": [
    "total_items[:2]"
   ]
  },
  {
   "cell_type": "code",
   "execution_count": null,
   "metadata": {},
   "outputs": [],
   "source": [
    "total_items_by_post = group_by_field(total_items, ('post_code',))"
   ]
  },
  {
   "cell_type": "code",
   "execution_count": null,
   "metadata": {},
   "outputs": [],
   "source": [
    "total_items_by_post"
   ]
  },
  {
   "cell_type": "code",
   "execution_count": null,
   "metadata": {},
   "outputs": [],
   "source": [
    "len(total_items_by_post)"
   ]
  },
  {
   "cell_type": "code",
   "execution_count": null,
   "metadata": {},
   "outputs": [],
   "source": [
    "assert len(total_items_by_post) == 118"
   ]
  },
  {
   "cell_type": "markdown",
   "metadata": {},
   "source": [
    "Now we will aggregate the groups in `total_by_item_post` to create `max_item_by_post`. Some `'bnf_name'` have the same item total within a given postal code. Therefore, if more than one `'bnf_name'` has the maximum item total in a given postal code, we'll take the alphabetically first `'bnf_name'`. We can do this by [sorting](https://docs.python.org/2.7/howto/sorting.html) each group according to the item total and `'bnf_name'`."
   ]
  },
  {
   "cell_type": "code",
   "execution_count": null,
   "metadata": {},
   "outputs": [],
   "source": [
    "max_item_by_post = max(total_items_by_post)\n",
    "max_item_by_post"
   ]
  },
  {
   "cell_type": "code",
   "execution_count": null,
   "metadata": {},
   "outputs": [],
   "source": [
    "test_list = total_items_by_post[('YO16 4LZ',)]\n",
    "test_list"
   ]
  },
  {
   "cell_type": "code",
   "execution_count": null,
   "metadata": {},
   "outputs": [],
   "source": [
    "from operator import itemgetter\n",
    "get_total = itemgetter('total')\n",
    "get_total(test_list[1])"
   ]
  },
  {
   "cell_type": "code",
   "execution_count": null,
   "metadata": {},
   "outputs": [],
   "source": [
    "sorted(group, key=lambda x: get_total(x)('total'), reverse=True)[0]"
   ]
  },
  {
   "cell_type": "code",
   "execution_count": null,
   "metadata": {},
   "outputs": [],
   "source": [
    "max_item_by_post = []\n",
    "groups = list(total_items_by_post.values())\n",
    "for group in groups:\n",
    "    max_total = sorted(group, key=itemgetter('total'), reverse=True)[0]\n",
    "    max_item_by_post.append(max_total)"
   ]
  },
  {
   "cell_type": "code",
   "execution_count": null,
   "metadata": {},
   "outputs": [],
   "source": [
    "max_item_by_post[0]"
   ]
  },
  {
   "cell_type": "markdown",
   "metadata": {},
   "source": [
    "In order to express the item totals as a proportion of the total amount of items prescribed across all `'bnf_name'` in a postal code, we'll need to use the total items prescribed that previously calculated as `items_by_post`. Calculate the proportions for the most common `'bnf_names'` for each postal code. Format your answer as a list of tuples: `[(post_code, bnf_name, total)]`"
   ]
  },
  {
   "cell_type": "code",
   "execution_count": null,
   "metadata": {},
   "outputs": [],
   "source": [
    "items_by_post = []\n",
    "for name, group in list(group_by_field(joined, ('post_code',)).items()):\n",
    "    item_sum = sum(dict_['items'] for dict_ in group)\n",
    "    name = name[0]\n",
    "    my_tuple = (name,item_sum)\n",
    "    items_by_post.append(my_tuple)"
   ]
  },
  {
   "cell_type": "code",
   "execution_count": null,
   "metadata": {},
   "outputs": [],
   "source": [
    "items_by_post.sort()"
   ]
  },
  {
   "cell_type": "code",
   "execution_count": null,
   "metadata": {},
   "outputs": [],
   "source": [
    "dict(items_by_post)"
   ]
  },
  {
   "cell_type": "code",
   "execution_count": null,
   "metadata": {},
   "outputs": [],
   "source": [
    "items_by_region = []\n",
    "\n",
    "for item in max_item_by_post:\n",
    "    numerator = item['total']\n",
    "    denominator = dict(items_by_post)[item['post_code']]\n",
    "    proportion = numerator / denominator\n",
    "    result = (item['post_code'], item['bnf_name'], proportion)\n",
    "    items_by_region.append(result)"
   ]
  },
  {
   "cell_type": "code",
   "execution_count": null,
   "metadata": {},
   "outputs": [],
   "source": [
    "items_by_region[0]"
   ]
  },
  {
   "cell_type": "code",
   "execution_count": null,
   "metadata": {},
   "outputs": [],
   "source": [
    "items_by_region = sorted(items_by_region)[:100 ]"
   ]
  },
  {
   "cell_type": "code",
   "execution_count": null,
   "metadata": {},
   "outputs": [],
   "source": []
  },
  {
   "cell_type": "code",
   "execution_count": null,
   "metadata": {},
   "outputs": [],
   "source": [
    "#items_by_region = [('B11 4BW', 'Salbutamol_Inha 100mcg (200 D) CFF', 0.0341508247)] * 100"
   ]
  },
  {
   "cell_type": "code",
   "execution_count": null,
   "metadata": {},
   "outputs": [],
   "source": [
    "items_by_region[:1]"
   ]
  },
  {
   "cell_type": "code",
   "execution_count": null,
   "metadata": {},
   "outputs": [],
   "source": [
    "grader.score.pw__items_by_region(items_by_region)"
   ]
  },
  {
   "cell_type": "markdown",
   "metadata": {},
   "source": [
    "*Copyright &copy; 2017 The Data Incubator.  All rights reserved.*"
   ]
  }
 ],
 "metadata": {
  "kernelspec": {
   "display_name": "Python 3",
   "language": "python",
   "name": "python3"
  },
  "language_info": {
   "codemirror_mode": {
    "name": "ipython",
    "version": 3
   },
   "file_extension": ".py",
   "mimetype": "text/x-python",
   "name": "python",
   "nbconvert_exporter": "python",
   "pygments_lexer": "ipython3",
   "version": "3.6.2"
  },
  "nbclean": true
 },
 "nbformat": 4,
 "nbformat_minor": 1
}
